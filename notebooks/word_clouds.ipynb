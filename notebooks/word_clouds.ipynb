{
 "cells": [
  {
   "cell_type": "markdown",
   "id": "7073d956",
   "metadata": {},
   "source": [
    "# Word clouds"
   ]
  },
  {
   "cell_type": "markdown",
   "id": "6ec26e21",
   "metadata": {},
   "source": [
    "Visualization of word clouds by cluster to confirm key words and removal of stop words."
   ]
  },
  {
   "cell_type": "markdown",
   "id": "a604d28a",
   "metadata": {},
   "source": [
    "## Data setup"
   ]
  },
  {
   "cell_type": "code",
   "execution_count": 1,
   "id": "f68fc3a6",
   "metadata": {},
   "outputs": [],
   "source": [
    "import pandas as pd\n",
    "import matplotlib.pyplot as plt\n",
    "%matplotlib inline\n",
    "from wordcloud import WordCloud"
   ]
  },
  {
   "cell_type": "code",
   "execution_count": 2,
   "id": "b0dfefde",
   "metadata": {},
   "outputs": [],
   "source": [
    "X_cluster_99 = pd.read_csv(\"/Users/egmac/code/arostagnat/BookMatch/data/proc_data/cluster_result/X_bert_cluster_99.csv\")"
   ]
  },
  {
   "cell_type": "code",
   "execution_count": 3,
   "id": "ac718829",
   "metadata": {},
   "outputs": [],
   "source": [
    "X_proc_new = pd.read_csv(\"/Users/egmac/code/arostagnat/BookMatch/data/proc_data/cluster_result/X_proc_10200_jsonlines.csv\")\n",
    "X_proc_old = pd.read_csv(\"/Users/egmac/code/arostagnat/BookMatch/data/proc_data_original/X_proc_full_jsonlines.csv\")"
   ]
  },
  {
   "cell_type": "code",
   "execution_count": 4,
   "id": "0382a6f2",
   "metadata": {},
   "outputs": [],
   "source": [
    "X_proc_old = X_proc_old.replace({'$$$': 0}, regex=False)\n",
    "X_proc_old.item_id_movie = X_proc_old.item_id_movie.astype(float)\n",
    "X_proc_old.item_id_book = X_proc_old.item_id_book.astype(float)"
   ]
  },
  {
   "cell_type": "code",
   "execution_count": 5,
   "id": "e9255f0f",
   "metadata": {},
   "outputs": [],
   "source": [
    "X_cluster_99 = pd.merge(X_cluster_99,X_proc_old[[\"item_id_movie\",\"txt\"]],how=\"left\",on=\"item_id_movie\")\n",
    "X_cluster_99 = pd.merge(X_cluster_99,X_proc_old[[\"item_id_book\",\"txt\"]],how=\"left\",on=\"item_id_book\")\n",
    "\n",
    "X_cluster_99[\"txt_old\"] = X_cluster_99['txt_x'].combine_first(X_cluster_99['txt_y'])\n",
    "X_cluster_99 = X_cluster_99.drop(columns=[\"txt_x\",\"txt_y\"])"
   ]
  },
  {
   "cell_type": "code",
   "execution_count": 6,
   "id": "41e973d9",
   "metadata": {},
   "outputs": [],
   "source": [
    "X_cluster_99 = pd.merge(X_cluster_99,X_proc_new[[\"item_id_movie\",\"txt\"]],how=\"left\",on=\"item_id_movie\")\n",
    "X_cluster_99 = pd.merge(X_cluster_99,X_proc_new[[\"item_id_book\",\"txt\"]],how=\"left\",on=\"item_id_book\")\n",
    "\n",
    "X_cluster_99[\"txt_new\"] = X_cluster_99['txt_x'].combine_first(X_cluster_99['txt_y'])\n",
    "X_cluster_99 = X_cluster_99.drop(columns=[\"txt_x\",\"txt_y\"])"
   ]
  },
  {
   "cell_type": "code",
   "execution_count": 7,
   "id": "56cf0d0c",
   "metadata": {},
   "outputs": [
    {
     "name": "stdout",
     "output_type": "stream",
     "text": [
      "X_cluster_99: (11893626, 7), X_cluster_99_extract: (100001, 7)\n"
     ]
    }
   ],
   "source": [
    "X_cluster_99_extract = X_cluster_99.loc[:100000]\n",
    "print(f\"X_cluster_99: {X_cluster_99.shape}, X_cluster_99_extract: {X_cluster_99_extract.shape}\")"
   ]
  },
  {
   "cell_type": "code",
   "execution_count": null,
   "id": "deadd159",
   "metadata": {},
   "outputs": [],
   "source": [
    "# X_99_new = {}\n",
    "\n",
    "# for cluster in extract_clusters:\n",
    "#     cluster_txt = X_cluster_99_extract[X_cluster_99_extract.clustering_label_bert == cluster]\n",
    "#     X_99_new[cluster] = cluster_txt.groupby('clustering_label_bert')['txt_new'].apply(' '.join).reset_index().txt_new.values[0]\n",
    "    "
   ]
  },
  {
   "cell_type": "markdown",
   "id": "d41d01df",
   "metadata": {},
   "source": [
    "## Creation of word clouds"
   ]
  },
  {
   "cell_type": "code",
   "execution_count": 8,
   "id": "3f31e6b0",
   "metadata": {},
   "outputs": [
    {
     "name": "stdout",
     "output_type": "stream",
     "text": [
      "Available clusters: [0, 2, 4, 7, 11, 12, 13, 17, 19, 22, 26, 28, 31, 38, 41, 42, 45, 46, 60, 62, 67, 75, 76, 80, 87]\n"
     ]
    }
   ],
   "source": [
    "extract_clusters = list(set(X_cluster_99_extract.clustering_label_bert))\n",
    "print(f\"Available clusters: {extract_clusters}\")"
   ]
  },
  {
   "cell_type": "code",
   "execution_count": null,
   "id": "0aa28e80",
   "metadata": {},
   "outputs": [],
   "source": [
    "def get_wordclouds (cluster):\n",
    "    \n",
    "    wordclouds={}\n",
    "    \n",
    "    cluster_txt = X_cluster_99_extract[X_cluster_99_extract.clustering_label_bert == cluster]\n",
    "    old_txt_agg = cluster_txt.groupby('clustering_label_bert')['txt_old'].apply(' '.join).reset_index().txt_old.values[0]\n",
    "    new_txt_agg = cluster_txt.groupby('clustering_label_bert')['txt_new'].apply(' '.join).reset_index().txt_new.values[0]\n",
    "    \n",
    "    wordclouds[\"old\"] = WordCloud().generate(old_txt_agg)\n",
    "    wordclouds[\"new\"] = WordCloud().generate(new_txt_agg)\n",
    "    \n",
    "    return wordclouds"
   ]
  },
  {
   "cell_type": "code",
   "execution_count": 9,
   "id": "4859121d",
   "metadata": {},
   "outputs": [],
   "source": [
    "cluster_txt = X_cluster_99_extract[X_cluster_99_extract.clustering_label_bert == 2]"
   ]
  },
  {
   "cell_type": "code",
   "execution_count": 43,
   "id": "9fd7d6b0",
   "metadata": {},
   "outputs": [],
   "source": [
    "old_txt_agg = cluster_txt.groupby('clustering_label_bert')['txt_old'].apply(' '.join)"
   ]
  },
  {
   "cell_type": "code",
   "execution_count": 45,
   "id": "dfa9f22f",
   "metadata": {},
   "outputs": [],
   "source": [
    "old_txt = old_txt_agg.item()"
   ]
  },
  {
   "cell_type": "code",
   "execution_count": null,
   "id": "c3e4b3f7",
   "metadata": {},
   "outputs": [],
   "source": [
    "wordcloud = WordCloud().generate(old_txt)"
   ]
  },
  {
   "cell_type": "code",
   "execution_count": null,
   "id": "40b9b763",
   "metadata": {},
   "outputs": [],
   "source": [
    "plt.imshow(wordcloud, interpolation='bilinear');"
   ]
  },
  {
   "cell_type": "code",
   "execution_count": null,
   "id": "357f6785",
   "metadata": {},
   "outputs": [],
   "source": [
    "wordclouds = get_wordclouds(2)"
   ]
  },
  {
   "cell_type": "code",
   "execution_count": null,
   "id": "e0e866ee",
   "metadata": {},
   "outputs": [],
   "source": [
    "plt.imshow(wordclouds[\"old\"], interpolation='bilinear');"
   ]
  },
  {
   "cell_type": "code",
   "execution_count": null,
   "id": "1cd3f9cd",
   "metadata": {},
   "outputs": [],
   "source": [
    "plt.imshow(wordclouds[\"new\"], interpolation='bilinear');"
   ]
  },
  {
   "cell_type": "code",
   "execution_count": null,
   "id": "0eddfe4a",
   "metadata": {},
   "outputs": [],
   "source": [
    "## Visualize wordclouds\n",
    "\n",
    "fig, ax = plt.subplots(1,2,figsize=(15, 15));\n",
    "ax[0].title.set_text(f\"With stop-words\");\n",
    "ax[0].imshow(wordcloud_old, interpolation='bilinear');\n",
    "ax[0].axis(\"off\");\n",
    "ax[1].title.set_text(f\"Without stop-words\");\n",
    "ax[1].imshow(wordcloud_new, interpolation='bilinear');\n",
    "ax[1].axis(\"off\");"
   ]
  }
 ],
 "metadata": {
  "kernelspec": {
   "display_name": "Python 3 (ipykernel)",
   "language": "python",
   "name": "python3"
  },
  "language_info": {
   "codemirror_mode": {
    "name": "ipython",
    "version": 3
   },
   "file_extension": ".py",
   "mimetype": "text/x-python",
   "name": "python",
   "nbconvert_exporter": "python",
   "pygments_lexer": "ipython3",
   "version": "3.10.6"
  }
 },
 "nbformat": 4,
 "nbformat_minor": 5
}
