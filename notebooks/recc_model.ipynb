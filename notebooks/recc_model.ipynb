{
 "cells": [
  {
   "cell_type": "markdown",
   "metadata": {},
   "source": [
    "# Imports"
   ]
  },
  {
   "cell_type": "code",
   "execution_count": 1,
   "metadata": {},
   "outputs": [],
   "source": [
    "import pandas as pd\n",
    "import numpy as np\n",
    "import itertools\n",
    "import matplotlib.pyplot as plt\n",
    "%matplotlib inline\n",
    "import pickle\n",
    "import gensim.downloader as api"
   ]
  },
  {
   "cell_type": "markdown",
   "metadata": {},
   "source": [
    "# Data Loading"
   ]
  },
  {
   "cell_type": "code",
   "execution_count": 467,
   "metadata": {},
   "outputs": [],
   "source": [
    "## Load cleaned data\n",
    "X_reviews = pd.read_csv(\"/Users/egmac/code/arostagnat/BookMatch/data/proc_data/X_proc_full_jsonlines.csv\")"
   ]
  },
  {
   "cell_type": "code",
   "execution_count": 468,
   "metadata": {},
   "outputs": [],
   "source": [
    "## Load metadata\n",
    "metadata_movies = pd.read_json(\"/Users/egmac/code/arostagnat/BookMatch/data/raw_data/raw_movies/metadata.json\", lines=True)\n",
    "metadata_books = pd.read_json(\"/Users/egmac/code/arostagnat/BookMatch/data/raw_data/raw_book/metadata.json\", lines=True)"
   ]
  },
  {
   "cell_type": "code",
   "execution_count": 469,
   "metadata": {},
   "outputs": [],
   "source": [
    "# Adjust metadata columns to match X_reviews\n",
    "metadata_movies.rename({\"item_id\":\"item_id_movie\", \"title\":\"title_movie\"}, axis='columns',inplace=True)\n",
    "metadata_books.rename({\"item_id\":\"item_id_book\", \"title\":\"title_book\",\"img\":\"img_book\",\"url\":\"url_book\"}, axis='columns',inplace=True)"
   ]
  },
  {
   "cell_type": "code",
   "execution_count": 470,
   "metadata": {},
   "outputs": [],
   "source": [
    "## Adjust import to replace $$$ with 0, and convert item_id to float to enable merge. \n",
    "## Note that the X_reviews import is preformatted as a float\n",
    "X_reviews = X_reviews.replace({'$$$': 0}, regex=False)\n",
    "X_reviews.item_id_movie = X_reviews.item_id_movie.astype(float)\n",
    "X_reviews.item_id_book = X_reviews.item_id_book.astype(float)"
   ]
  },
  {
   "cell_type": "code",
   "execution_count": 471,
   "metadata": {},
   "outputs": [],
   "source": [
    "## Revise metadata item_id to float to match X_reviews\n",
    "metadata_movies.item_id_movie = metadata_movies.item_id_movie.astype(float)\n",
    "metadata_books.item_id_book = metadata_books.item_id_book.astype(float)"
   ]
  },
  {
   "cell_type": "code",
   "execution_count": 472,
   "metadata": {},
   "outputs": [],
   "source": [
    "## Merge X_reviews and metadata\n",
    "X_all = pd.merge(X_reviews, metadata_movies[[\"title_movie\",\"item_id_movie\"]], on=\"item_id_movie\", how=\"left\")\n",
    "X_all = pd.merge(X_all, metadata_books[[\"title_book\",\"item_id_book\",\"url_book\",\"img_book\"]], on=\"item_id_book\", how=\"left\")"
   ]
  },
  {
   "cell_type": "code",
   "execution_count": 473,
   "metadata": {},
   "outputs": [
    {
     "data": {
      "text/html": [
       "<div>\n",
       "<style scoped>\n",
       "    .dataframe tbody tr th:only-of-type {\n",
       "        vertical-align: middle;\n",
       "    }\n",
       "\n",
       "    .dataframe tbody tr th {\n",
       "        vertical-align: top;\n",
       "    }\n",
       "\n",
       "    .dataframe thead th {\n",
       "        text-align: right;\n",
       "    }\n",
       "</style>\n",
       "<table border=\"1\" class=\"dataframe\">\n",
       "  <thead>\n",
       "    <tr style=\"text-align: right;\">\n",
       "      <th></th>\n",
       "      <th>item_id_movie</th>\n",
       "      <th>txt</th>\n",
       "      <th>is_movie</th>\n",
       "      <th>item_id_book</th>\n",
       "      <th>title_movie</th>\n",
       "      <th>title_book</th>\n",
       "      <th>url_book</th>\n",
       "      <th>img_book</th>\n",
       "    </tr>\n",
       "  </thead>\n",
       "  <tbody>\n",
       "    <tr>\n",
       "      <th>0</th>\n",
       "      <td>1.0</td>\n",
       "      <td>one film start clich remember well six year ol...</td>\n",
       "      <td>1</td>\n",
       "      <td>0.0</td>\n",
       "      <td>Toy Story (1995)</td>\n",
       "      <td>NaN</td>\n",
       "      <td>NaN</td>\n",
       "      <td>NaN</td>\n",
       "    </tr>\n",
       "  </tbody>\n",
       "</table>\n",
       "</div>"
      ],
      "text/plain": [
       "   item_id_movie                                                txt  is_movie  \\\n",
       "0            1.0  one film start clich remember well six year ol...         1   \n",
       "\n",
       "   item_id_book       title_movie title_book url_book img_book  \n",
       "0           0.0  Toy Story (1995)        NaN      NaN      NaN  "
      ]
     },
     "execution_count": 473,
     "metadata": {},
     "output_type": "execute_result"
    }
   ],
   "source": [
    "## Check import\n",
    "X_all.head(1)"
   ]
  },
  {
   "cell_type": "markdown",
   "metadata": {},
   "source": [
    "# Bert embedding\n"
   ]
  },
  {
   "cell_type": "code",
   "execution_count": 4,
   "metadata": {},
   "outputs": [],
   "source": [
    "from sklearn.cluster import KMeans, MiniBatchKMeans, AgglomerativeClustering, Birch, BisectingKMeans\n",
    "from sentence_transformers import SentenceTransformer # Make sure you have done a \"pip install -e .\" to have SentenceTransformer package installed"
   ]
  },
  {
   "cell_type": "code",
   "execution_count": 474,
   "metadata": {},
   "outputs": [],
   "source": [
    "## Initiate bert embedding\n",
    "bert = SentenceTransformer('all-MiniLM-L6-v2')"
   ]
  },
  {
   "cell_type": "code",
   "execution_count": 475,
   "metadata": {},
   "outputs": [
    {
     "data": {
      "text/plain": [
       "(61455, 384)"
      ]
     },
     "execution_count": 475,
     "metadata": {},
     "output_type": "execute_result"
    }
   ],
   "source": [
    "bert_embeddings = bert.encode(X_all[\"txt\"])\n",
    "np.shape(bert_embeddings)"
   ]
  },
  {
   "cell_type": "markdown",
   "metadata": {},
   "source": [
    "# Agglomerative clustering"
   ]
  },
  {
   "cell_type": "code",
   "execution_count": null,
   "metadata": {},
   "outputs": [],
   "source": [
    "## Initiate clustering\n",
    "# N_CLUSTER = 1_000\n",
    "# clustering_bert = AgglomerativeClustering(n_clusters=N_CLUSTER).fit(bert_embeddings)"
   ]
  },
  {
   "cell_type": "code",
   "execution_count": null,
   "metadata": {},
   "outputs": [],
   "source": [
    "## Add clustering and vectors to X_all\n",
    "# X_all[\"cluster_bert\"] = clustering_bert.labels_\n",
    "X_all[\"vector\"] = bert_embeddings.tolist()"
   ]
  },
  {
   "cell_type": "code",
   "execution_count": 205,
   "metadata": {},
   "outputs": [
    {
     "data": {
      "text/html": [
       "<div>\n",
       "<style scoped>\n",
       "    .dataframe tbody tr th:only-of-type {\n",
       "        vertical-align: middle;\n",
       "    }\n",
       "\n",
       "    .dataframe tbody tr th {\n",
       "        vertical-align: top;\n",
       "    }\n",
       "\n",
       "    .dataframe thead th {\n",
       "        text-align: right;\n",
       "    }\n",
       "</style>\n",
       "<table border=\"1\" class=\"dataframe\">\n",
       "  <thead>\n",
       "    <tr style=\"text-align: right;\">\n",
       "      <th></th>\n",
       "      <th>item_id_movie</th>\n",
       "      <th>txt</th>\n",
       "      <th>is_movie</th>\n",
       "      <th>item_id_book</th>\n",
       "      <th>title_movie</th>\n",
       "      <th>title_book</th>\n",
       "      <th>url_book</th>\n",
       "      <th>img_book</th>\n",
       "      <th>cluster_bert</th>\n",
       "      <th>vector</th>\n",
       "    </tr>\n",
       "  </thead>\n",
       "  <tbody>\n",
       "    <tr>\n",
       "      <th>0</th>\n",
       "      <td>1.0</td>\n",
       "      <td>one film start clich remember well six year ol...</td>\n",
       "      <td>1</td>\n",
       "      <td>0.0</td>\n",
       "      <td>Toy Story (1995)</td>\n",
       "      <td>NaN</td>\n",
       "      <td>NaN</td>\n",
       "      <td>NaN</td>\n",
       "      <td>240</td>\n",
       "      <td>[-0.08743363618850708, -0.10916568338871002, 0...</td>\n",
       "    </tr>\n",
       "    <tr>\n",
       "      <th>1</th>\n",
       "      <td>2.0</td>\n",
       "      <td>fun little movie hide back drawer movie play c...</td>\n",
       "      <td>1</td>\n",
       "      <td>0.0</td>\n",
       "      <td>Jumanji (1995)</td>\n",
       "      <td>NaN</td>\n",
       "      <td>NaN</td>\n",
       "      <td>NaN</td>\n",
       "      <td>352</td>\n",
       "      <td>[-0.03691134229302406, -0.09489640593528748, -...</td>\n",
       "    </tr>\n",
       "    <tr>\n",
       "      <th>2</th>\n",
       "      <td>4.0</td>\n",
       "      <td>extra movie actually extra movie quite fun tim...</td>\n",
       "      <td>1</td>\n",
       "      <td>0.0</td>\n",
       "      <td>Waiting to Exhale (1995)</td>\n",
       "      <td>NaN</td>\n",
       "      <td>NaN</td>\n",
       "      <td>NaN</td>\n",
       "      <td>40</td>\n",
       "      <td>[-0.051957421004772186, -0.12929892539978027, ...</td>\n",
       "    </tr>\n",
       "  </tbody>\n",
       "</table>\n",
       "</div>"
      ],
      "text/plain": [
       "   item_id_movie                                                txt  is_movie  \\\n",
       "0            1.0  one film start clich remember well six year ol...         1   \n",
       "1            2.0  fun little movie hide back drawer movie play c...         1   \n",
       "2            4.0  extra movie actually extra movie quite fun tim...         1   \n",
       "\n",
       "   item_id_book               title_movie title_book url_book img_book  \\\n",
       "0           0.0          Toy Story (1995)        NaN      NaN      NaN   \n",
       "1           0.0            Jumanji (1995)        NaN      NaN      NaN   \n",
       "2           0.0  Waiting to Exhale (1995)        NaN      NaN      NaN   \n",
       "\n",
       "   cluster_bert                                             vector  \n",
       "0           240  [-0.08743363618850708, -0.10916568338871002, 0...  \n",
       "1           352  [-0.03691134229302406, -0.09489640593528748, -...  \n",
       "2            40  [-0.051957421004772186, -0.12929892539978027, ...  "
      ]
     },
     "execution_count": 205,
     "metadata": {},
     "output_type": "execute_result"
    }
   ],
   "source": [
    "X_all.head(3)"
   ]
  },
  {
   "cell_type": "markdown",
   "metadata": {},
   "source": [
    "# Recommendation"
   ]
  },
  {
   "cell_type": "code",
   "execution_count": 163,
   "metadata": {},
   "outputs": [],
   "source": [
    "## Import relevant packages\n",
    "\n",
    "from sklearn.decomposition import TruncatedSVD\n",
    "from sklearn.metrics.pairwise import cosine_similarity"
   ]
  },
  {
   "cell_type": "code",
   "execution_count": 169,
   "metadata": {},
   "outputs": [],
   "source": [
    "## Create extract of X_all with vectors spread across columns, and confirm relevance of dimensions\n",
    "\n",
    "X_vectors = X_all.vector.tolist()\n",
    "X_vectors = pd.DataFrame(X_vectors)\n",
    "\n",
    "svd = TruncatedSVD(n_components=X_vectors.shape[1])\n",
    "latent_df = svd.fit_transform(X_vectors)"
   ]
  },
  {
   "cell_type": "code",
   "execution_count": 171,
   "metadata": {},
   "outputs": [
    {
     "data": {
      "image/png": "[encoded data removed]",
      "text/plain": [
       "<Figure size 640x480 with 1 Axes>"
      ]
     },
     "metadata": {},
     "output_type": "display_data"
    }
   ],
   "source": [
    "## Plot variance as a function of the number of components.\n",
    "## Based on the below figure, nearly 100% of the variance is explained by 250 components\n",
    "plt.plot(svd.explained_variance_ratio_.cumsum())\n",
    "plt.xlabel('Number of singular value components')\n",
    "plt.ylabel('Cumulative percent of variance')   \n",
    "plt.grid()\n",
    "plt.show()"
   ]
  },
  {
   "cell_type": "code",
   "execution_count": 190,
   "metadata": {},
   "outputs": [
    {
     "name": "stdout",
     "output_type": "stream",
     "text": [
      "X_all shape: (16123, 10) | X_vectors shape: (16123, 384) | X_vectors shape: (16123, 250)\n"
     ]
    }
   ],
   "source": [
    "## Reshape vectors to 250 components, which will help reduce computational time\n",
    "n = 250\n",
    "X_vectors_revised = pd.DataFrame(X_vectors.iloc[:,0:n])\n",
    "print(f'X_all shape: {X_all.shape} | X_vectors shape: {X_vectors.shape} | X_vectors shape: {X_vectors_revised.shape}')"
   ]
  },
  {
   "cell_type": "code",
   "execution_count": 206,
   "metadata": {},
   "outputs": [],
   "source": [
    "## Add qualitative columns to X_vectors_revised, and then create 2 separate dataframes for books and movies.\n",
    "## Movie dataframe to be used to lookup user-inputted movies. Book dataframe to be used for calculations.\n",
    "## Note that the dataframes need to be separated eventually, so it's worth doing now.\n",
    "\n",
    "X_vectors_revised[[\"item_id_movie\",\"item_id_book\",\"is_movie\"]] = X_all[[\"item_id_movie\",\"item_id_book\",\"is_movie\"]]\n",
    "\n",
    "X_vectors_books = X_vectors_revised[X_vectors_revised.is_movie == 0].set_index(\"item_id_book\",drop=True).drop(columns=[\"item_id_movie\",\"is_movie\"])\n",
    "X_vectors_movies = X_vectors_revised[X_vectors_revised.is_movie == 1].set_index(\"item_id_movie\",drop=True).drop(columns=[\"item_id_book\",\"is_movie\"])"
   ]
  },
  {
   "cell_type": "code",
   "execution_count": 255,
   "metadata": {},
   "outputs": [],
   "source": [
    "## Input sample data\n",
    "user_movies = [5816,40815,54001,69844]\n",
    "## [5816,40815,54001,69844]"
   ]
  },
  {
   "cell_type": "code",
   "execution_count": 459,
   "metadata": {},
   "outputs": [],
   "source": [
    "## Method 1: For each film in user list, calculate the cosine similarity with all books in the cluster\n",
    "## Then, sort the books by their cosine similarity to identify **the** **closest** book for each film\n",
    "## Finally, take the full list of book recommendations and then identify the **top 5 most frequent** books\n",
    "\n",
    "def get_local_reccs(user_movies:list):\n",
    "    \n",
    "    verified_movies = [movie_id for movie_id in user_movies if movie_id in X_all.item_id_movie.tolist()]\n",
    "    \n",
    "    recommendations = pd.DataFrame(columns=[\"similarity\",\"title_book\",\"img_book\",\"url_book\"])\n",
    "    movies = pd.DataFrame(verified_movies,columns=[\"item_id_movie\"])\n",
    "    movies = pd.merge(movies,X_all[[\"title_movie\",\"item_id_movie\"]],on=\"item_id_movie\",how=\"left\")\n",
    "    \n",
    "    for movie_id in verified_movies:\n",
    "\n",
    "        # Obtain vectors for user-inputted film and all books. Clusters are not used for time being\n",
    "        ### movie_cluster = X_vectors_movies[X_vectors_movies.index == movie_id].cluster_bert.values[0]\n",
    "        movie_vector = X_vectors_movies[X_vectors_movies.index == movie_id]\n",
    "        books_vectors = X_vectors_books\n",
    "\n",
    "        # Calculate cosine similarity\n",
    "        sim_books = cosine_similarity(books_vectors,movie_vector)\n",
    " \n",
    "        # Create summary table of books with their similarity and relevant details\n",
    "        sim_books_detail = pd.DataFrame(sim_books,index=books_vectors.index,columns=[\"similarity\"])\n",
    "        sim_books_detail = sim_books_detail.sort_values(\"similarity\",ascending=False)\n",
    "        sim_books_detail = pd.merge(sim_books_detail,X_all[[\"title_book\",\"img_book\",\"url_book\",\"item_id_book\"]],\n",
    "                                    on=\"item_id_book\",how=\"left\")\n",
    "\n",
    "        # Add top book to recommendations dataframe\n",
    "        top_book = pd.DataFrame([sim_books_detail.loc[0]])\n",
    "        recommendations = pd.concat([recommendations,top_book],axis=0, ignore_index=True)\n",
    "    \n",
    "    print(\"Inputted films\")\n",
    "    print(movies)\n",
    "    return recommendations[\"title_book\"]\n"
   ]
  },
  {
   "cell_type": "code",
   "execution_count": 440,
   "metadata": {},
   "outputs": [],
   "source": [
    "## Method 2: Calculate the average vector for all films in the user list, and then identify the corresponding cluster\n",
    "## Then,calculate the cosine similarity with all books in the cluster\n",
    "## Finally, sort the books by their cosine similarities and take the **top 5 closest** books\n",
    "\n",
    "def get_global_reccs(user_movies:list):\n",
    "    \n",
    "    verified_movies = [movie_id for movie_id in user_movies if movie_id in X_all.item_id_movie.tolist()]\n",
    "    \n",
    "    ## Collect vectors of all inputted films and calculate average vector\n",
    "    movies_id = pd.DataFrame(verified_movies,columns=[\"item_id_movie\"])\n",
    "    movies_vectors = pd.merge(movies_id,\n",
    "                              X_vectors_movies,\n",
    "                              how=\"left\",\n",
    "                              on=\"item_id_movie\").set_index(\"item_id_movie\")\n",
    "    avg_movie_vector = pd.DataFrame([movies_vectors.mean()])\n",
    "    books_vectors = X_vectors_books\n",
    "\n",
    "    ## Calculate cosine similarity\n",
    "    sim_books = cosine_similarity(books_vectors,movie_vector)\n",
    "\n",
    "    ## Create summary table of books with their similarity and relevant details\n",
    "    sim_books_detail = pd.DataFrame(sim_books,index=books_vectors.index,columns=[\"similarity\"])\n",
    "    sim_books_detail = sim_books_detail.sort_values(\"similarity\",ascending=False)\n",
    "    sim_books_detail = pd.merge(sim_books_detail,X_all[[\"title_book\",\"img_book\",\"url_book\",\"item_id_book\"]],on=\"item_id_book\",how=\"left\")\n",
    "    \n",
    "    ## Take top 5 books and show results\n",
    "    recommendations = sim_books_detail.head(5)\n",
    "    movie_titles = pd.merge(movies_id,X_all[[\"title_movie\",\"item_id_movie\"]],how=\"inner\",on=\"item_id_movie\")\n",
    "    print(\"Inputted films\")\n",
    "    print(movie_titles.title_movie)\n",
    "    print (\"Top 5 book recommendations\")\n",
    "    return recommendations[\"title_book\"]"
   ]
  },
  {
   "cell_type": "code",
   "execution_count": 454,
   "metadata": {},
   "outputs": [
    {
     "data": {
      "text/html": [
       "<div>\n",
       "<style scoped>\n",
       "    .dataframe tbody tr th:only-of-type {\n",
       "        vertical-align: middle;\n",
       "    }\n",
       "\n",
       "    .dataframe tbody tr th {\n",
       "        vertical-align: top;\n",
       "    }\n",
       "\n",
       "    .dataframe thead th {\n",
       "        text-align: right;\n",
       "    }\n",
       "</style>\n",
       "<table border=\"1\" class=\"dataframe\">\n",
       "  <thead>\n",
       "    <tr style=\"text-align: right;\">\n",
       "      <th></th>\n",
       "      <th>item_id_book</th>\n",
       "      <th>similarity</th>\n",
       "      <th>title_book</th>\n",
       "      <th>img_book</th>\n",
       "      <th>url_book</th>\n",
       "    </tr>\n",
       "  </thead>\n",
       "  <tbody>\n",
       "    <tr>\n",
       "      <th>0</th>\n",
       "      <td>387.0</td>\n",
       "      <td>0.628951</td>\n",
       "      <td>The Game: Penetrating the Secret Society of Pi...</td>\n",
       "      <td>https://images.gr-assets.com/books/1410129471m...</td>\n",
       "      <td>https://www.goodreads.com/book/show/900.The_Game</td>\n",
       "    </tr>\n",
       "  </tbody>\n",
       "</table>\n",
       "</div>"
      ],
      "text/plain": [
       "   item_id_book  similarity  \\\n",
       "0         387.0    0.628951   \n",
       "\n",
       "                                          title_book  \\\n",
       "0  The Game: Penetrating the Secret Society of Pi...   \n",
       "\n",
       "                                            img_book  \\\n",
       "0  https://images.gr-assets.com/books/1410129471m...   \n",
       "\n",
       "                                           url_book  \n",
       "0  https://www.goodreads.com/book/show/900.The_Game  "
      ]
     },
     "execution_count": 454,
     "metadata": {},
     "output_type": "execute_result"
    }
   ],
   "source": [
    "top_book = pd.DataFrame([sim_books_detail.loc[0]])\n",
    "top_book"
   ]
  },
  {
   "cell_type": "code",
   "execution_count": 460,
   "metadata": {},
   "outputs": [
    {
     "name": "stdout",
     "output_type": "stream",
     "text": [
      "Inputted films\n",
      "   item_id_movie                         title_movie\n",
      "0              1                    Toy Story (1995)\n",
      "1              2                      Jumanji (1995)\n",
      "2              4            Waiting to Exhale (1995)\n",
      "3              5  Father of the Bride Part II (1995)\n",
      "4              6                         Heat (1995)\n",
      "5              7                      Sabrina (1995)\n"
     ]
    },
    {
     "data": {
      "text/plain": [
       "0                           Hatchet (Brian's Saga, #1)\n",
       "1                                The Phantom Tollbooth\n",
       "2    The Game: Penetrating the Secret Society of Pi...\n",
       "3    The Game: Penetrating the Secret Society of Pi...\n",
       "4                                           The Broker\n",
       "5    Fullmetal Alchemist, Vol. 1 (Fullmetal Alchemi...\n",
       "Name: title_book, dtype: object"
      ]
     },
     "execution_count": 460,
     "metadata": {},
     "output_type": "execute_result"
    }
   ],
   "source": [
    "get_local_reccs([1,2,3,4,5,6,7])"
   ]
  },
  {
   "cell_type": "code",
   "execution_count": 412,
   "metadata": {},
   "outputs": [
    {
     "name": "stdout",
     "output_type": "stream",
     "text": [
      "Inputted films\n",
      "0                      Toy Story (1995)\n",
      "1                        Jumanji (1995)\n",
      "2              Waiting to Exhale (1995)\n",
      "3    Father of the Bride Part II (1995)\n",
      "4                           Heat (1995)\n",
      "5                        Sabrina (1995)\n",
      "Name: title_movie, dtype: object\n",
      "Top 5 book recommendations\n"
     ]
    },
    {
     "data": {
      "text/plain": [
       "0    The Game: Penetrating the Secret Society of Pi...\n",
       "1              Men Are from Mars, Women Are from Venus\n",
       "2    The Hitchhiker's Guide to the Galaxy (Hitchhik...\n",
       "3                          Slouching Towards Bethlehem\n",
       "4                                        Anna Karenina\n",
       "Name: title_book, dtype: object"
      ]
     },
     "execution_count": 412,
     "metadata": {},
     "output_type": "execute_result"
    }
   ],
   "source": [
    "get_global_reccs([1,2,3,4,5,6,7])"
   ]
  }
 ],
 "metadata": {
  "kernelspec": {
   "display_name": "Python 3 (ipykernel)",
   "language": "python",
   "name": "python3"
  },
  "language_info": {
   "codemirror_mode": {
    "name": "ipython",
    "version": 3
   },
   "file_extension": ".py",
   "mimetype": "text/x-python",
   "name": "python",
   "nbconvert_exporter": "python",
   "pygments_lexer": "ipython3",
   "version": "3.10.6"
  }
 },
 "nbformat": 4,
 "nbformat_minor": 2
}
