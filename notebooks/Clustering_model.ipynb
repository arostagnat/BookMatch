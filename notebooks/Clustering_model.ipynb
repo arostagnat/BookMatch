{
 "cells": [
  {
   "attachments": {},
   "cell_type": "markdown",
   "metadata": {},
   "source": [
    "# Imports"
   ]
  },
  {
   "cell_type": "code",
   "execution_count": 66,
   "metadata": {},
   "outputs": [],
   "source": [
    "import pandas as pd\n",
    "import numpy as np\n",
    "import itertools\n",
    "import matplotlib.pyplot as plt\n",
    "%matplotlib inline\n",
    "import pickle"
   ]
  },
  {
   "cell_type": "code",
   "execution_count": 67,
   "metadata": {},
   "outputs": [],
   "source": [
    "# from tensorflow.keras.preprocessing.text import text_to_word_sequence\n",
    "# from tensorflow.keras.preprocessing.text import Tokenizer\n",
    "# from tensorflow.keras.preprocessing.sequence import pad_sequences\n",
    "import gensim.downloader as api"
   ]
  },
  {
   "attachments": {},
   "cell_type": "markdown",
   "metadata": {},
   "source": [
    "# Data loading"
   ]
  },
  {
   "cell_type": "code",
   "execution_count": 3,
   "metadata": {},
   "outputs": [],
   "source": [
    "X_movies = pd.read_csv(\"./../data/sample_movies_reviews_clean.csv\")\n",
    "X_books = pd.read_csv(\"./../data/sample_books_reviews_clean.csv\")"
   ]
  },
  {
   "attachments": {},
   "cell_type": "markdown",
   "metadata": {},
   "source": [
    "### Extracting the lists out of the strings and removing unnecessary columns"
   ]
  },
  {
   "cell_type": "code",
   "execution_count": 4,
   "metadata": {},
   "outputs": [],
   "source": [
    "X_books[\"txt_flatten\"] = X_books[\"txt\"].apply(lambda x: eval(x))\n",
    "X_movies[\"txt_flatten\"] = X_movies[\"txt\"].apply(lambda x: eval(x))\n",
    "X_movies.drop(columns=[\"Unnamed: 0\", \"txt\"], inplace=True)\n",
    "X_books.drop(columns=[\"Unnamed: 0\", \"txt\"], inplace=True)"
   ]
  },
  {
   "cell_type": "code",
   "execution_count": 5,
   "metadata": {},
   "outputs": [],
   "source": [
    "X_books_agg = X_books.groupby(\"item_id\").sum()\n",
    "X_movies_agg = X_movies.groupby(\"item_id\").sum()\n",
    "X_books_agg[\"is_movie\"] = 0\n",
    "X_movies_agg[\"is_movie\"] = 1\n",
    "X_books_agg.reset_index(inplace=True)\n",
    "X_movies_agg.reset_index(inplace=True)\n",
    "X_books_agg.rename({\"item_id\":\"item_id_book\"}, axis='columns', inplace=True)\n",
    "X_movies_agg.rename({\"item_id\":\"item_id_movie\"}, axis='columns',inplace=True)\n",
    "X_reviews = pd.concat([X_movies_agg, X_books_agg])"
   ]
  },
  {
   "attachments": {},
   "cell_type": "markdown",
   "metadata": {},
   "source": [
    "### Grouping the reviews by movies_id and book_id\n"
   ]
  },
  {
   "cell_type": "code",
   "execution_count": null,
   "metadata": {},
   "outputs": [],
   "source": [
    "X_movies.groupby(\"item_id\").count().hist(bins=[*range(20)])"
   ]
  },
  {
   "cell_type": "code",
   "execution_count": null,
   "metadata": {},
   "outputs": [],
   "source": [
    "X_books.groupby(\"item_id\").count().hist(bins=[*range(40)])"
   ]
  },
  {
   "attachments": {},
   "cell_type": "markdown",
   "metadata": {},
   "source": [
    "#### Looking at the distribution of reviews lengths"
   ]
  },
  {
   "cell_type": "code",
   "execution_count": null,
   "metadata": {},
   "outputs": [],
   "source": [
    "X_movies_agg[\"length_txt\"] = X_movies_agg[\"txt_flatten\"].apply(lambda x: len(x))"
   ]
  },
  {
   "cell_type": "code",
   "execution_count": null,
   "metadata": {},
   "outputs": [],
   "source": [
    "X_movies_agg[\"length_txt\"].hist(bins=[*range(0,250,10)])\n",
    "plt.xlabel(\"length_txt\")\n",
    "plt.ylabel(\"Frequency\")\n",
    "plt.title(\"# of words per movie review\");"
   ]
  },
  {
   "cell_type": "code",
   "execution_count": null,
   "metadata": {},
   "outputs": [],
   "source": [
    "X_books_agg[\"length_txt\"] = X_books_agg[\"txt_flatten\"].apply(lambda x: len(x))"
   ]
  },
  {
   "cell_type": "code",
   "execution_count": null,
   "metadata": {},
   "outputs": [],
   "source": [
    "X_books_agg[\"length_txt\"].hist(bins=[*range(0,2000,100)])\n",
    "plt.xlabel(\"length_txt\")\n",
    "plt.ylabel(\"Frequency\")\n",
    "plt.title(\"# of words per book review\");"
   ]
  },
  {
   "cell_type": "code",
   "execution_count": null,
   "metadata": {},
   "outputs": [],
   "source": [
    "X_reviews[\"length_txt\"].hist(bins=50)\n",
    "plt.xlabel(\"length_txt\")\n",
    "plt.ylabel(\"Frequency\")\n",
    "plt.title(\"# of words per review (book + movie)\");"
   ]
  },
  {
   "attachments": {},
   "cell_type": "markdown",
   "metadata": {},
   "source": [
    "### Word2Vec"
   ]
  },
  {
   "cell_type": "code",
   "execution_count": null,
   "metadata": {},
   "outputs": [],
   "source": [
    "# To list the available Word2Vec models\n",
    "print(list(api.info()['models'].keys()))"
   ]
  },
  {
   "cell_type": "code",
   "execution_count": null,
   "metadata": {},
   "outputs": [],
   "source": [
    "#TODO use another word2vec\n",
    "#TODO utiliser BERT --> pas forcément besoin de preprocessing ?"
   ]
  },
  {
   "cell_type": "code",
   "execution_count": null,
   "metadata": {},
   "outputs": [],
   "source": [
    "word2vec_transfer = api.load(\"glove-wiki-gigaword-300\")"
   ]
  },
  {
   "cell_type": "code",
   "execution_count": 6,
   "metadata": {},
   "outputs": [],
   "source": [
    "# # Store data (serialize)\n",
    "# with open('./../notebook_temp/word2vec.pickle', 'wb') as handle:\n",
    "#     pickle.dump(word2vec_transfer, handle, protocol=pickle.HIGHEST_PROTOCOL)\n",
    "\n",
    "# Load data (deserialize)\n",
    "with open('./../notebook_temp/word2vec.pickle', 'rb') as handle:\n",
    "    word2vec_transfer = pickle.load(handle)"
   ]
  },
  {
   "cell_type": "code",
   "execution_count": null,
   "metadata": {},
   "outputs": [],
   "source": [
    "# To list Word2Vec params\n",
    "print(word2vec_transfer.vector_size)\n",
    "print(len(word2vec_transfer.key_to_index))"
   ]
  },
  {
   "attachments": {},
   "cell_type": "markdown",
   "metadata": {},
   "source": [
    "### Old embedding version"
   ]
  },
  {
   "cell_type": "code",
   "execution_count": null,
   "metadata": {},
   "outputs": [],
   "source": [
    "# Function to convert a sentence (list of words) into a matrix representing the words in the embedding space\n",
    "def embed_sentence_with_TF(word2vec, sentence):\n",
    "    embedded_sentence = []\n",
    "    for word in sentence:\n",
    "        if word in word2vec:\n",
    "            embedded_sentence.append(word2vec[word])\n",
    "        \n",
    "    return np.array(embedded_sentence)\n",
    "\n",
    "# Function that converts a list of sentences into a list of matrices\n",
    "def embedding(word2vec, sentences):\n",
    "    embed = []\n",
    "    \n",
    "    for sentence in sentences:\n",
    "        embedded_sentence = embed_sentence_with_TF(word2vec, sentence)\n",
    "        embed.append(embedded_sentence)\n",
    "        \n",
    "    return embed"
   ]
  },
  {
   "cell_type": "code",
   "execution_count": null,
   "metadata": {},
   "outputs": [],
   "source": [
    "# Embed the training and test sentences\n",
    "# X_embed = embedding(word2vec_transfer, X_reviews[\"txt_flatten\"])"
   ]
  },
  {
   "cell_type": "code",
   "execution_count": null,
   "metadata": {},
   "outputs": [],
   "source": [
    "# Pad the training and test embedded sentences\n",
    "# TODO: maxlen could be increased\n",
    "# X_pad = pad_sequences(X_embed, dtype='float32', padding='post', maxlen=1000, value=0)"
   ]
  },
  {
   "cell_type": "code",
   "execution_count": null,
   "metadata": {},
   "outputs": [],
   "source": [
    "np.shape(X_embed)"
   ]
  },
  {
   "cell_type": "code",
   "execution_count": null,
   "metadata": {},
   "outputs": [],
   "source": [
    "np.shape(X_embed[3])"
   ]
  },
  {
   "attachments": {},
   "cell_type": "markdown",
   "metadata": {},
   "source": [
    "### Vectorizing"
   ]
  },
  {
   "cell_type": "code",
   "execution_count": 7,
   "metadata": {},
   "outputs": [],
   "source": [
    "def vectorize(list_of_docs, model):\n",
    "    \"\"\"Generate vectors for list of documents using a Word Embedding\n",
    "\n",
    "    Args:\n",
    "        list_of_docs: List of documents\n",
    "        model: Gensim's Word Embedding\n",
    "\n",
    "    Returns:\n",
    "        List of document vectors\n",
    "    \"\"\"\n",
    "    features = []\n",
    "\n",
    "    for tokens in list_of_docs:\n",
    "        zero_vector = np.zeros(model.vector_size)\n",
    "        vectors = []\n",
    "        for token in tokens:\n",
    "            if token in model:\n",
    "                try:\n",
    "                    vectors.append(model[token])\n",
    "                except KeyError:\n",
    "                    continue\n",
    "        if vectors:\n",
    "            vectors = np.asarray(vectors)\n",
    "            avg_vec = vectors.mean(axis=0)\n",
    "            features.append(avg_vec)\n",
    "        else:\n",
    "            features.append(zero_vector)\n",
    "    return features\n"
   ]
  },
  {
   "cell_type": "code",
   "execution_count": null,
   "metadata": {},
   "outputs": [],
   "source": [
    "vectorized_docs = vectorize(X_reviews[\"txt_flatten\"], model=word2vec_transfer)"
   ]
  },
  {
   "cell_type": "code",
   "execution_count": null,
   "metadata": {},
   "outputs": [],
   "source": [
    "len(vectorized_docs), len(vectorized_docs[0])"
   ]
  },
  {
   "attachments": {},
   "cell_type": "markdown",
   "metadata": {},
   "source": [
    "### BERT embedding"
   ]
  },
  {
   "cell_type": "code",
   "execution_count": 68,
   "metadata": {},
   "outputs": [],
   "source": [
    "from sklearn.cluster import KMeans, MiniBatchKMeans, AgglomerativeClustering, Birch, BisectingKMeans\n",
    "from sentence_transformers import SentenceTransformer"
   ]
  },
  {
   "cell_type": "code",
   "execution_count": 69,
   "metadata": {},
   "outputs": [],
   "source": [
    "# bert = SentenceTransformer('all-MiniLM-L6-v2')\n",
    "# # test with \"all-MiniLM-L6-v2\"\n",
    "# # most powerful model : all-mpnet-base-v2\n",
    "\n",
    "# # Store data (serialize)\n",
    "# with open('./../notebook_temp/bert.pickle', 'wb') as handle:\n",
    "#     pickle.dump(bert, handle, protocol=pickle.HIGHEST_PROTOCOL)\n",
    "\n",
    "# Load data (deserialize)\n",
    "with open('./../notebook_temp/bert.pickle', 'rb') as handle:\n",
    "    bert = pickle.load(handle)"
   ]
  },
  {
   "cell_type": "code",
   "execution_count": 70,
   "metadata": {},
   "outputs": [],
   "source": [
    "import glob\n",
    "import os"
   ]
  },
  {
   "cell_type": "code",
   "execution_count": 71,
   "metadata": {},
   "outputs": [],
   "source": [
    "# merging the files\n",
    "joined_files = os.path.join(\"./../data/proc_data/proc_book/\", \"*.csv\")\n",
    "  \n",
    "# A list of all joined files is returned\n",
    "joined_list = glob.glob(joined_files)\n"
   ]
  },
  {
   "cell_type": "code",
   "execution_count": 72,
   "metadata": {},
   "outputs": [],
   "source": [
    "  \n",
    "# Finally, the files are joined\n",
    "X_books_bert = pd.concat(map(pd.read_csv, joined_list), ignore_index=True)"
   ]
  },
  {
   "cell_type": "code",
   "execution_count": 73,
   "metadata": {},
   "outputs": [
    {
     "data": {
      "text/html": [
       "<div>\n",
       "<style scoped>\n",
       "    .dataframe tbody tr th:only-of-type {\n",
       "        vertical-align: middle;\n",
       "    }\n",
       "\n",
       "    .dataframe tbody tr th {\n",
       "        vertical-align: top;\n",
       "    }\n",
       "\n",
       "    .dataframe thead th {\n",
       "        text-align: right;\n",
       "    }\n",
       "</style>\n",
       "<table border=\"1\" class=\"dataframe\">\n",
       "  <thead>\n",
       "    <tr style=\"text-align: right;\">\n",
       "      <th></th>\n",
       "      <th>item_id</th>\n",
       "      <th>txt</th>\n",
       "    </tr>\n",
       "  </thead>\n",
       "  <tbody>\n",
       "    <tr>\n",
       "      <th>0</th>\n",
       "      <td>1649</td>\n",
       "      <td>Love love love this book!!!! It made me fall i...</td>\n",
       "    </tr>\n",
       "    <tr>\n",
       "      <th>1</th>\n",
       "      <td>2001</td>\n",
       "      <td>Do you like predictable stories where the girl...</td>\n",
       "    </tr>\n",
       "    <tr>\n",
       "      <th>2</th>\n",
       "      <td>38270</td>\n",
       "      <td>The book is always better than the movie... On...</td>\n",
       "    </tr>\n",
       "    <tr>\n",
       "      <th>3</th>\n",
       "      <td>59082</td>\n",
       "      <td>Just when I thought I had a handle on this boo...</td>\n",
       "    </tr>\n",
       "    <tr>\n",
       "      <th>4</th>\n",
       "      <td>68729</td>\n",
       "      <td>I'd seen the movie a couple hundred times (don...</td>\n",
       "    </tr>\n",
       "    <tr>\n",
       "      <th>...</th>\n",
       "      <td>...</td>\n",
       "      <td>...</td>\n",
       "    </tr>\n",
       "    <tr>\n",
       "      <th>655</th>\n",
       "      <td>3602953</td>\n",
       "      <td>Patricia Cornwell's newest book opens with a g...</td>\n",
       "    </tr>\n",
       "    <tr>\n",
       "      <th>656</th>\n",
       "      <td>4733799</td>\n",
       "      <td>it's like - the Bible, only more poetic... Mov...</td>\n",
       "    </tr>\n",
       "    <tr>\n",
       "      <th>657</th>\n",
       "      <td>5913092</td>\n",
       "      <td>The Number 1 Ladies Detective Agency is in som...</td>\n",
       "    </tr>\n",
       "    <tr>\n",
       "      <th>658</th>\n",
       "      <td>10219456</td>\n",
       "      <td>7th-adult. So, just when I was giving up on gr...</td>\n",
       "    </tr>\n",
       "    <tr>\n",
       "      <th>659</th>\n",
       "      <td>18280036</td>\n",
       "      <td>Good funny scalzi read (or listen in this inst...</td>\n",
       "    </tr>\n",
       "  </tbody>\n",
       "</table>\n",
       "<p>660 rows × 2 columns</p>\n",
       "</div>"
      ],
      "text/plain": [
       "      item_id                                                txt\n",
       "0        1649  Love love love this book!!!! It made me fall i...\n",
       "1        2001  Do you like predictable stories where the girl...\n",
       "2       38270  The book is always better than the movie... On...\n",
       "3       59082  Just when I thought I had a handle on this boo...\n",
       "4       68729  I'd seen the movie a couple hundred times (don...\n",
       "..        ...                                                ...\n",
       "655   3602953  Patricia Cornwell's newest book opens with a g...\n",
       "656   4733799  it's like - the Bible, only more poetic... Mov...\n",
       "657   5913092  The Number 1 Ladies Detective Agency is in som...\n",
       "658  10219456  7th-adult. So, just when I was giving up on gr...\n",
       "659  18280036  Good funny scalzi read (or listen in this inst...\n",
       "\n",
       "[660 rows x 2 columns]"
      ]
     },
     "execution_count": 73,
     "metadata": {},
     "output_type": "execute_result"
    }
   ],
   "source": [
    "X_books_bert"
   ]
  },
  {
   "cell_type": "code",
   "execution_count": 74,
   "metadata": {},
   "outputs": [],
   "source": [
    "X_movies_bert = pd.read_csv(\"./../data/proc_data/proc_movies/mov_chunk1_raw.csv\")"
   ]
  },
  {
   "cell_type": "code",
   "execution_count": 75,
   "metadata": {},
   "outputs": [
    {
     "data": {
      "text/html": [
       "<div>\n",
       "<style scoped>\n",
       "    .dataframe tbody tr th:only-of-type {\n",
       "        vertical-align: middle;\n",
       "    }\n",
       "\n",
       "    .dataframe tbody tr th {\n",
       "        vertical-align: top;\n",
       "    }\n",
       "\n",
       "    .dataframe thead th {\n",
       "        text-align: right;\n",
       "    }\n",
       "</style>\n",
       "<table border=\"1\" class=\"dataframe\">\n",
       "  <thead>\n",
       "    <tr style=\"text-align: right;\">\n",
       "      <th></th>\n",
       "      <th>item_id</th>\n",
       "      <th>txt</th>\n",
       "    </tr>\n",
       "  </thead>\n",
       "  <tbody>\n",
       "    <tr>\n",
       "      <th>0</th>\n",
       "      <td>1</td>\n",
       "      <td>The one film that started what is now a cliché...</td>\n",
       "    </tr>\n",
       "    <tr>\n",
       "      <th>1</th>\n",
       "      <td>2</td>\n",
       "      <td>Fun little movie hidden in the back drawer; Mo...</td>\n",
       "    </tr>\n",
       "    <tr>\n",
       "      <th>2</th>\n",
       "      <td>4</td>\n",
       "      <td>Extra in Movie; I was actually an extra in thi...</td>\n",
       "    </tr>\n",
       "    <tr>\n",
       "      <th>3</th>\n",
       "      <td>5</td>\n",
       "      <td>The Best Movie of All Time; let me tell you.. ...</td>\n",
       "    </tr>\n",
       "    <tr>\n",
       "      <th>4</th>\n",
       "      <td>6</td>\n",
       "      <td>One of the best films of the 90's; I am assumi...</td>\n",
       "    </tr>\n",
       "    <tr>\n",
       "      <th>...</th>\n",
       "      <td>...</td>\n",
       "      <td>...</td>\n",
       "    </tr>\n",
       "    <tr>\n",
       "      <th>11422</th>\n",
       "      <td>182283</td>\n",
       "      <td>Find this one!!!; This cartoon really deserves...</td>\n",
       "    </tr>\n",
       "    <tr>\n",
       "      <th>11423</th>\n",
       "      <td>182313</td>\n",
       "      <td>Great if you like the series; On the buses was...</td>\n",
       "    </tr>\n",
       "    <tr>\n",
       "      <th>11424</th>\n",
       "      <td>182321</td>\n",
       "      <td>I Went For The Laughs And I Got It!; This movi...</td>\n",
       "    </tr>\n",
       "    <tr>\n",
       "      <th>11425</th>\n",
       "      <td>182357</td>\n",
       "      <td>Worth the watch.  Better than Bond in many way...</td>\n",
       "    </tr>\n",
       "    <tr>\n",
       "      <th>11426</th>\n",
       "      <td>182377</td>\n",
       "      <td>Femalien brings love, joy, hope to horny earth...</td>\n",
       "    </tr>\n",
       "  </tbody>\n",
       "</table>\n",
       "<p>11427 rows × 2 columns</p>\n",
       "</div>"
      ],
      "text/plain": [
       "       item_id                                                txt\n",
       "0            1  The one film that started what is now a cliché...\n",
       "1            2  Fun little movie hidden in the back drawer; Mo...\n",
       "2            4  Extra in Movie; I was actually an extra in thi...\n",
       "3            5  The Best Movie of All Time; let me tell you.. ...\n",
       "4            6  One of the best films of the 90's; I am assumi...\n",
       "...        ...                                                ...\n",
       "11422   182283  Find this one!!!; This cartoon really deserves...\n",
       "11423   182313  Great if you like the series; On the buses was...\n",
       "11424   182321  I Went For The Laughs And I Got It!; This movi...\n",
       "11425   182357  Worth the watch.  Better than Bond in many way...\n",
       "11426   182377  Femalien brings love, joy, hope to horny earth...\n",
       "\n",
       "[11427 rows x 2 columns]"
      ]
     },
     "execution_count": 75,
     "metadata": {},
     "output_type": "execute_result"
    }
   ],
   "source": [
    "X_movies_bert"
   ]
  },
  {
   "cell_type": "code",
   "execution_count": 76,
   "metadata": {},
   "outputs": [],
   "source": [
    "X_books_bert[\"is_movie\"] = 0\n",
    "X_movies_bert[\"is_movie\"] = 1\n",
    "# X_books_bert.reset_index(inplace=True)\n",
    "# X_movies_bert.reset_index(inplace=True)\n",
    "X_books_bert.rename({\"item_id\":\"item_id_book\"}, axis='columns', inplace=True)\n",
    "X_movies_bert.rename({\"item_id\":\"item_id_movie\"}, axis='columns',inplace=True)\n",
    "X_reviews_bert = pd.concat([X_movies_bert, X_books_bert], ignore_index=True)"
   ]
  },
  {
   "cell_type": "code",
   "execution_count": 77,
   "metadata": {},
   "outputs": [],
   "source": [
    "# bert_embeddings = bert.encode(X_reviews_bert[\"txt\"]) # ou doc vectorized ? \n",
    "\n",
    "# # Store data (serialize)\n",
    "# with open('./../notebook_temp/bert_embeddings.pickle', 'wb') as handle:\n",
    "#     pickle.dump(bert_embeddings, handle, protocol=pickle.HIGHEST_PROTOCOL)\n",
    "    \n",
    "    # Load data (deserialize)\n",
    "with open('./../notebook_temp/bert_embeddings.pickle', 'rb') as handle:\n",
    "    bert_embeddings = pickle.load(handle)"
   ]
  },
  {
   "cell_type": "code",
   "execution_count": 78,
   "metadata": {},
   "outputs": [
    {
     "data": {
      "text/plain": [
       "(12087, 384)"
      ]
     },
     "execution_count": 78,
     "metadata": {},
     "output_type": "execute_result"
    }
   ],
   "source": [
    "np.shape(bert_embeddings)"
   ]
  },
  {
   "cell_type": "code",
   "execution_count": 17,
   "metadata": {},
   "outputs": [],
   "source": [
    "N_CLUSTERS = 50"
   ]
  },
  {
   "attachments": {},
   "cell_type": "markdown",
   "metadata": {},
   "source": [
    "### MiniBatchKmeans (Old)"
   ]
  },
  {
   "cell_type": "code",
   "execution_count": null,
   "metadata": {},
   "outputs": [],
   "source": [
    "# km = MiniBatchKMeans(n_clusters=75, batch_size=500).fit(vectorized_docs)"
   ]
  },
  {
   "cell_type": "code",
   "execution_count": null,
   "metadata": {},
   "outputs": [],
   "source": [
    "X_reviews[\"batch_label\"] = km.labels_"
   ]
  },
  {
   "attachments": {},
   "cell_type": "markdown",
   "metadata": {},
   "source": [
    "### Kmeans"
   ]
  },
  {
   "cell_type": "code",
   "execution_count": null,
   "metadata": {},
   "outputs": [],
   "source": [
    "kmeans = KMeans(n_clusters=N_CLUSTERS).fit(vectorized_docs)"
   ]
  },
  {
   "cell_type": "code",
   "execution_count": null,
   "metadata": {},
   "outputs": [],
   "source": [
    "kmeans_bert = KMeans(n_clusters=N_CLUSTERS).fit(bert_embeddings)"
   ]
  },
  {
   "cell_type": "code",
   "execution_count": null,
   "metadata": {},
   "outputs": [],
   "source": [
    "X_reviews[\"Kmeans_label\"] = kmeans.labels_\n",
    "X_reviews_bert[\"Kmeans_label_bert\"] = kmeans_bert.labels_"
   ]
  },
  {
   "attachments": {},
   "cell_type": "markdown",
   "metadata": {},
   "source": [
    "### Agglomerative clustering"
   ]
  },
  {
   "cell_type": "code",
   "execution_count": 54,
   "metadata": {},
   "outputs": [],
   "source": [
    "clustering = AgglomerativeClustering(n_clusters=50).fit(vectorized_jeff)"
   ]
  },
  {
   "cell_type": "code",
   "execution_count": 79,
   "metadata": {},
   "outputs": [],
   "source": [
    "clustering_bert = AgglomerativeClustering(n_clusters=1000).fit(bert_embeddings)"
   ]
  },
  {
   "cell_type": "code",
   "execution_count": 80,
   "metadata": {},
   "outputs": [],
   "source": [
    "# X_reviews[\"clustering_label\"] = clustering.labels_\n",
    "X_reviews_bert[\"clustering_label_bert\"] = clustering_bert.labels_"
   ]
  },
  {
   "cell_type": "code",
   "execution_count": 81,
   "metadata": {},
   "outputs": [],
   "source": [
    "import scipy.cluster.hierarchy as sch"
   ]
  },
  {
   "cell_type": "code",
   "execution_count": 85,
   "metadata": {},
   "outputs": [
    {
     "data": {
      "image/png": "[encoded data removed]",
      "text/plain": [
       "<Figure size 640x480 with 1 Axes>"
      ]
     },
     "metadata": {},
     "output_type": "display_data"
    }
   ],
   "source": [
    "dendrogram = sch.dendrogram(sch.linkage(bert_embeddings, method='ward'))"
   ]
  },
  {
   "attachments": {},
   "cell_type": "markdown",
   "metadata": {},
   "source": [
    "#### Projector tensorflow"
   ]
  },
  {
   "cell_type": "code",
   "execution_count": 46,
   "metadata": {},
   "outputs": [],
   "source": [
    "bert = merged_all_bert[[\"movie_title\",\"book_title\",\"clustering_label_bert\", \"is_movie\"]]\n",
    "bert = bert.fillna(\"\")"
   ]
  },
  {
   "cell_type": "code",
   "execution_count": 48,
   "metadata": {},
   "outputs": [],
   "source": [
    "bert[\"title\"] = bert[\"movie_title\"] + bert[\"book_title\"]"
   ]
  },
  {
   "cell_type": "code",
   "execution_count": 50,
   "metadata": {},
   "outputs": [],
   "source": [
    "bert.drop(columns=[\"movie_title\", \"book_title\"], inplace=True)"
   ]
  },
  {
   "cell_type": "code",
   "execution_count": 51,
   "metadata": {},
   "outputs": [],
   "source": [
    "bert.to_csv('bert.tsv', sep=\"\\t\")"
   ]
  },
  {
   "cell_type": "code",
   "execution_count": 44,
   "metadata": {},
   "outputs": [
    {
     "data": {
      "text/html": [
       "<div>\n",
       "<style scoped>\n",
       "    .dataframe tbody tr th:only-of-type {\n",
       "        vertical-align: middle;\n",
       "    }\n",
       "\n",
       "    .dataframe tbody tr th {\n",
       "        vertical-align: top;\n",
       "    }\n",
       "\n",
       "    .dataframe thead th {\n",
       "        text-align: right;\n",
       "    }\n",
       "</style>\n",
       "<table border=\"1\" class=\"dataframe\">\n",
       "  <thead>\n",
       "    <tr style=\"text-align: right;\">\n",
       "      <th></th>\n",
       "      <th>0</th>\n",
       "      <th>1</th>\n",
       "      <th>2</th>\n",
       "      <th>3</th>\n",
       "      <th>4</th>\n",
       "      <th>5</th>\n",
       "      <th>6</th>\n",
       "      <th>7</th>\n",
       "      <th>8</th>\n",
       "      <th>9</th>\n",
       "      <th>...</th>\n",
       "      <th>374</th>\n",
       "      <th>375</th>\n",
       "      <th>376</th>\n",
       "      <th>377</th>\n",
       "      <th>378</th>\n",
       "      <th>379</th>\n",
       "      <th>380</th>\n",
       "      <th>381</th>\n",
       "      <th>382</th>\n",
       "      <th>383</th>\n",
       "    </tr>\n",
       "  </thead>\n",
       "  <tbody>\n",
       "    <tr>\n",
       "      <th>0</th>\n",
       "      <td>-0.079007</td>\n",
       "      <td>-0.049298</td>\n",
       "      <td>0.051513</td>\n",
       "      <td>-0.027787</td>\n",
       "      <td>-0.013174</td>\n",
       "      <td>0.059992</td>\n",
       "      <td>-0.049877</td>\n",
       "      <td>0.044862</td>\n",
       "      <td>0.060521</td>\n",
       "      <td>-0.025812</td>\n",
       "      <td>...</td>\n",
       "      <td>0.106086</td>\n",
       "      <td>0.028847</td>\n",
       "      <td>-0.016674</td>\n",
       "      <td>-0.030727</td>\n",
       "      <td>-0.037982</td>\n",
       "      <td>0.071764</td>\n",
       "      <td>0.025707</td>\n",
       "      <td>-0.015925</td>\n",
       "      <td>0.053646</td>\n",
       "      <td>0.126850</td>\n",
       "    </tr>\n",
       "    <tr>\n",
       "      <th>1</th>\n",
       "      <td>-0.053540</td>\n",
       "      <td>0.000282</td>\n",
       "      <td>0.015590</td>\n",
       "      <td>-0.004250</td>\n",
       "      <td>0.012114</td>\n",
       "      <td>0.038642</td>\n",
       "      <td>0.066208</td>\n",
       "      <td>0.057151</td>\n",
       "      <td>0.016414</td>\n",
       "      <td>0.046918</td>\n",
       "      <td>...</td>\n",
       "      <td>0.118308</td>\n",
       "      <td>-0.010259</td>\n",
       "      <td>-0.090554</td>\n",
       "      <td>0.073645</td>\n",
       "      <td>-0.045544</td>\n",
       "      <td>0.028873</td>\n",
       "      <td>0.112189</td>\n",
       "      <td>0.015121</td>\n",
       "      <td>-0.033950</td>\n",
       "      <td>0.047594</td>\n",
       "    </tr>\n",
       "    <tr>\n",
       "      <th>2</th>\n",
       "      <td>-0.042839</td>\n",
       "      <td>-0.054799</td>\n",
       "      <td>-0.034893</td>\n",
       "      <td>0.014431</td>\n",
       "      <td>-0.012506</td>\n",
       "      <td>0.060859</td>\n",
       "      <td>-0.004653</td>\n",
       "      <td>-0.001440</td>\n",
       "      <td>0.003472</td>\n",
       "      <td>-0.054092</td>\n",
       "      <td>...</td>\n",
       "      <td>0.078316</td>\n",
       "      <td>-0.067737</td>\n",
       "      <td>-0.017566</td>\n",
       "      <td>0.084620</td>\n",
       "      <td>0.007749</td>\n",
       "      <td>0.021396</td>\n",
       "      <td>-0.015340</td>\n",
       "      <td>-0.022210</td>\n",
       "      <td>-0.147625</td>\n",
       "      <td>0.001202</td>\n",
       "    </tr>\n",
       "    <tr>\n",
       "      <th>3</th>\n",
       "      <td>-0.085395</td>\n",
       "      <td>0.001581</td>\n",
       "      <td>-0.002437</td>\n",
       "      <td>-0.009061</td>\n",
       "      <td>0.003269</td>\n",
       "      <td>0.035443</td>\n",
       "      <td>0.018421</td>\n",
       "      <td>0.093952</td>\n",
       "      <td>0.145767</td>\n",
       "      <td>0.084204</td>\n",
       "      <td>...</td>\n",
       "      <td>0.045845</td>\n",
       "      <td>0.049183</td>\n",
       "      <td>-0.084166</td>\n",
       "      <td>0.029974</td>\n",
       "      <td>-0.042120</td>\n",
       "      <td>0.021249</td>\n",
       "      <td>0.071048</td>\n",
       "      <td>-0.014005</td>\n",
       "      <td>0.009078</td>\n",
       "      <td>-0.039007</td>\n",
       "    </tr>\n",
       "    <tr>\n",
       "      <th>4</th>\n",
       "      <td>-0.045171</td>\n",
       "      <td>0.037970</td>\n",
       "      <td>-0.007245</td>\n",
       "      <td>-0.033129</td>\n",
       "      <td>0.026384</td>\n",
       "      <td>0.078317</td>\n",
       "      <td>-0.005574</td>\n",
       "      <td>0.065243</td>\n",
       "      <td>0.022878</td>\n",
       "      <td>-0.038569</td>\n",
       "      <td>...</td>\n",
       "      <td>0.086511</td>\n",
       "      <td>0.030827</td>\n",
       "      <td>-0.040421</td>\n",
       "      <td>0.047738</td>\n",
       "      <td>0.012385</td>\n",
       "      <td>0.033098</td>\n",
       "      <td>0.045036</td>\n",
       "      <td>-0.031701</td>\n",
       "      <td>-0.022563</td>\n",
       "      <td>-0.026315</td>\n",
       "    </tr>\n",
       "    <tr>\n",
       "      <th>...</th>\n",
       "      <td>...</td>\n",
       "      <td>...</td>\n",
       "      <td>...</td>\n",
       "      <td>...</td>\n",
       "      <td>...</td>\n",
       "      <td>...</td>\n",
       "      <td>...</td>\n",
       "      <td>...</td>\n",
       "      <td>...</td>\n",
       "      <td>...</td>\n",
       "      <td>...</td>\n",
       "      <td>...</td>\n",
       "      <td>...</td>\n",
       "      <td>...</td>\n",
       "      <td>...</td>\n",
       "      <td>...</td>\n",
       "      <td>...</td>\n",
       "      <td>...</td>\n",
       "      <td>...</td>\n",
       "      <td>...</td>\n",
       "      <td>...</td>\n",
       "    </tr>\n",
       "    <tr>\n",
       "      <th>12082</th>\n",
       "      <td>-0.001829</td>\n",
       "      <td>-0.051105</td>\n",
       "      <td>0.054703</td>\n",
       "      <td>0.051773</td>\n",
       "      <td>0.029096</td>\n",
       "      <td>0.037651</td>\n",
       "      <td>-0.004367</td>\n",
       "      <td>0.002233</td>\n",
       "      <td>0.067764</td>\n",
       "      <td>0.018390</td>\n",
       "      <td>...</td>\n",
       "      <td>0.014033</td>\n",
       "      <td>0.046221</td>\n",
       "      <td>0.005162</td>\n",
       "      <td>0.072476</td>\n",
       "      <td>-0.041058</td>\n",
       "      <td>0.042190</td>\n",
       "      <td>-0.027285</td>\n",
       "      <td>0.032857</td>\n",
       "      <td>0.002844</td>\n",
       "      <td>-0.011957</td>\n",
       "    </tr>\n",
       "    <tr>\n",
       "      <th>12083</th>\n",
       "      <td>0.006569</td>\n",
       "      <td>-0.020199</td>\n",
       "      <td>-0.016572</td>\n",
       "      <td>-0.033811</td>\n",
       "      <td>0.053877</td>\n",
       "      <td>-0.060022</td>\n",
       "      <td>-0.077428</td>\n",
       "      <td>0.065245</td>\n",
       "      <td>0.050635</td>\n",
       "      <td>0.018877</td>\n",
       "      <td>...</td>\n",
       "      <td>0.054152</td>\n",
       "      <td>-0.000405</td>\n",
       "      <td>-0.037791</td>\n",
       "      <td>0.021352</td>\n",
       "      <td>-0.065171</td>\n",
       "      <td>-0.008345</td>\n",
       "      <td>0.050590</td>\n",
       "      <td>-0.004664</td>\n",
       "      <td>-0.015368</td>\n",
       "      <td>0.033915</td>\n",
       "    </tr>\n",
       "    <tr>\n",
       "      <th>12084</th>\n",
       "      <td>-0.102479</td>\n",
       "      <td>-0.086156</td>\n",
       "      <td>-0.032896</td>\n",
       "      <td>-0.011255</td>\n",
       "      <td>-0.074386</td>\n",
       "      <td>0.028103</td>\n",
       "      <td>0.010293</td>\n",
       "      <td>-0.010066</td>\n",
       "      <td>0.020905</td>\n",
       "      <td>-0.010566</td>\n",
       "      <td>...</td>\n",
       "      <td>0.028483</td>\n",
       "      <td>-0.004551</td>\n",
       "      <td>-0.038530</td>\n",
       "      <td>0.069576</td>\n",
       "      <td>-0.042411</td>\n",
       "      <td>0.041779</td>\n",
       "      <td>0.063140</td>\n",
       "      <td>-0.061914</td>\n",
       "      <td>-0.041203</td>\n",
       "      <td>-0.013255</td>\n",
       "    </tr>\n",
       "    <tr>\n",
       "      <th>12085</th>\n",
       "      <td>-0.070320</td>\n",
       "      <td>-0.013451</td>\n",
       "      <td>-0.050287</td>\n",
       "      <td>-0.003596</td>\n",
       "      <td>0.021793</td>\n",
       "      <td>0.090333</td>\n",
       "      <td>-0.027473</td>\n",
       "      <td>0.018487</td>\n",
       "      <td>0.041073</td>\n",
       "      <td>0.016177</td>\n",
       "      <td>...</td>\n",
       "      <td>0.048721</td>\n",
       "      <td>-0.022084</td>\n",
       "      <td>-0.044974</td>\n",
       "      <td>0.062123</td>\n",
       "      <td>-0.047895</td>\n",
       "      <td>0.035967</td>\n",
       "      <td>0.087970</td>\n",
       "      <td>-0.074245</td>\n",
       "      <td>-0.047531</td>\n",
       "      <td>-0.028091</td>\n",
       "    </tr>\n",
       "    <tr>\n",
       "      <th>12086</th>\n",
       "      <td>0.004737</td>\n",
       "      <td>-0.147067</td>\n",
       "      <td>-0.005342</td>\n",
       "      <td>0.003271</td>\n",
       "      <td>-0.011531</td>\n",
       "      <td>0.059560</td>\n",
       "      <td>-0.001750</td>\n",
       "      <td>-0.017155</td>\n",
       "      <td>-0.053425</td>\n",
       "      <td>0.012221</td>\n",
       "      <td>...</td>\n",
       "      <td>0.065806</td>\n",
       "      <td>0.067180</td>\n",
       "      <td>-0.049292</td>\n",
       "      <td>0.134394</td>\n",
       "      <td>-0.093340</td>\n",
       "      <td>0.023940</td>\n",
       "      <td>0.014841</td>\n",
       "      <td>-0.022895</td>\n",
       "      <td>-0.134260</td>\n",
       "      <td>0.046263</td>\n",
       "    </tr>\n",
       "  </tbody>\n",
       "</table>\n",
       "<p>12087 rows × 384 columns</p>\n",
       "</div>"
      ],
      "text/plain": [
       "            0         1         2         3         4         5         6    \\\n",
       "0     -0.079007 -0.049298  0.051513 -0.027787 -0.013174  0.059992 -0.049877   \n",
       "1     -0.053540  0.000282  0.015590 -0.004250  0.012114  0.038642  0.066208   \n",
       "2     -0.042839 -0.054799 -0.034893  0.014431 -0.012506  0.060859 -0.004653   \n",
       "3     -0.085395  0.001581 -0.002437 -0.009061  0.003269  0.035443  0.018421   \n",
       "4     -0.045171  0.037970 -0.007245 -0.033129  0.026384  0.078317 -0.005574   \n",
       "...         ...       ...       ...       ...       ...       ...       ...   \n",
       "12082 -0.001829 -0.051105  0.054703  0.051773  0.029096  0.037651 -0.004367   \n",
       "12083  0.006569 -0.020199 -0.016572 -0.033811  0.053877 -0.060022 -0.077428   \n",
       "12084 -0.102479 -0.086156 -0.032896 -0.011255 -0.074386  0.028103  0.010293   \n",
       "12085 -0.070320 -0.013451 -0.050287 -0.003596  0.021793  0.090333 -0.027473   \n",
       "12086  0.004737 -0.147067 -0.005342  0.003271 -0.011531  0.059560 -0.001750   \n",
       "\n",
       "            7         8         9    ...       374       375       376  \\\n",
       "0      0.044862  0.060521 -0.025812  ...  0.106086  0.028847 -0.016674   \n",
       "1      0.057151  0.016414  0.046918  ...  0.118308 -0.010259 -0.090554   \n",
       "2     -0.001440  0.003472 -0.054092  ...  0.078316 -0.067737 -0.017566   \n",
       "3      0.093952  0.145767  0.084204  ...  0.045845  0.049183 -0.084166   \n",
       "4      0.065243  0.022878 -0.038569  ...  0.086511  0.030827 -0.040421   \n",
       "...         ...       ...       ...  ...       ...       ...       ...   \n",
       "12082  0.002233  0.067764  0.018390  ...  0.014033  0.046221  0.005162   \n",
       "12083  0.065245  0.050635  0.018877  ...  0.054152 -0.000405 -0.037791   \n",
       "12084 -0.010066  0.020905 -0.010566  ...  0.028483 -0.004551 -0.038530   \n",
       "12085  0.018487  0.041073  0.016177  ...  0.048721 -0.022084 -0.044974   \n",
       "12086 -0.017155 -0.053425  0.012221  ...  0.065806  0.067180 -0.049292   \n",
       "\n",
       "            377       378       379       380       381       382       383  \n",
       "0     -0.030727 -0.037982  0.071764  0.025707 -0.015925  0.053646  0.126850  \n",
       "1      0.073645 -0.045544  0.028873  0.112189  0.015121 -0.033950  0.047594  \n",
       "2      0.084620  0.007749  0.021396 -0.015340 -0.022210 -0.147625  0.001202  \n",
       "3      0.029974 -0.042120  0.021249  0.071048 -0.014005  0.009078 -0.039007  \n",
       "4      0.047738  0.012385  0.033098  0.045036 -0.031701 -0.022563 -0.026315  \n",
       "...         ...       ...       ...       ...       ...       ...       ...  \n",
       "12082  0.072476 -0.041058  0.042190 -0.027285  0.032857  0.002844 -0.011957  \n",
       "12083  0.021352 -0.065171 -0.008345  0.050590 -0.004664 -0.015368  0.033915  \n",
       "12084  0.069576 -0.042411  0.041779  0.063140 -0.061914 -0.041203 -0.013255  \n",
       "12085  0.062123 -0.047895  0.035967  0.087970 -0.074245 -0.047531 -0.028091  \n",
       "12086  0.134394 -0.093340  0.023940  0.014841 -0.022895 -0.134260  0.046263  \n",
       "\n",
       "[12087 rows x 384 columns]"
      ]
     },
     "execution_count": 44,
     "metadata": {},
     "output_type": "execute_result"
    }
   ],
   "source": [
    "pd.DataFrame(bert_embeddings)"
   ]
  },
  {
   "cell_type": "code",
   "execution_count": 45,
   "metadata": {},
   "outputs": [],
   "source": [
    "pd.DataFrame(bert_embeddings).to_csv('embeddings.tsv', sep=\"\\t\", header=False)"
   ]
  },
  {
   "attachments": {},
   "cell_type": "markdown",
   "metadata": {},
   "source": [
    "#### Data Visualization"
   ]
  },
  {
   "cell_type": "code",
   "execution_count": 20,
   "metadata": {},
   "outputs": [],
   "source": [
    "## Import packages\n",
    "\n",
    "import seaborn as sns\n",
    "import matplotlib.pyplot as plt\n",
    "from sklearn.manifold import TSNE"
   ]
  },
  {
   "cell_type": "code",
   "execution_count": 32,
   "metadata": {},
   "outputs": [
    {
     "name": "stdout",
     "output_type": "stream",
     "text": [
      "Extract shape: (10000, 384)\n"
     ]
    }
   ],
   "source": [
    "## Set-up of data inputs. Note that X must comprise solely vectors\n",
    "\n",
    "sample_size = 10_000\n",
    "\n",
    "extract = pd.DataFrame(bert_embeddings).sample(n=sample_size)\n",
    "\n",
    "print(f\"Extract shape: {extract.shape}\")"
   ]
  },
  {
   "cell_type": "code",
   "execution_count": 33,
   "metadata": {},
   "outputs": [
    {
     "name": "stdout",
     "output_type": "stream",
     "text": [
      "[t-SNE] Computing 91 nearest neighbors...\n",
      "[t-SNE] Indexed 10000 samples in 0.002s...\n",
      "[t-SNE] Computed neighbors for 10000 samples in 0.902s...\n",
      "[t-SNE] Computed conditional probabilities for sample 1000 / 10000\n",
      "[t-SNE] Computed conditional probabilities for sample 2000 / 10000\n",
      "[t-SNE] Computed conditional probabilities for sample 3000 / 10000\n",
      "[t-SNE] Computed conditional probabilities for sample 4000 / 10000\n",
      "[t-SNE] Computed conditional probabilities for sample 5000 / 10000\n",
      "[t-SNE] Computed conditional probabilities for sample 6000 / 10000\n",
      "[t-SNE] Computed conditional probabilities for sample 7000 / 10000\n",
      "[t-SNE] Computed conditional probabilities for sample 8000 / 10000\n",
      "[t-SNE] Computed conditional probabilities for sample 9000 / 10000\n",
      "[t-SNE] Computed conditional probabilities for sample 10000 / 10000\n",
      "[t-SNE] Mean sigma: 0.216608\n",
      "[t-SNE] KL divergence after 250 iterations with early exaggeration: 94.837830\n",
      "[t-SNE] KL divergence after 1000 iterations: 3.396441\n"
     ]
    }
   ],
   "source": [
    "## Initialization of TSNE model\n",
    "\n",
    "tsne = TSNE(n_components=2, verbose=1, random_state=123)\n",
    "z = tsne.fit_transform(extract)\n",
    "\n",
    "tsne_df = pd.DataFrame()\n",
    "tsne_df[\"comp-1\"] = z[:,0]\n",
    "tsne_df[\"comp-2\"] = z[:,1]"
   ]
  },
  {
   "cell_type": "code",
   "execution_count": 34,
   "metadata": {},
   "outputs": [
    {
     "data": {
      "image/png": "[encoded data removed]",
      "text/plain": [
       "<Figure size 640x480 with 1 Axes>"
      ]
     },
     "metadata": {},
     "output_type": "display_data"
    }
   ],
   "source": [
    "## Visualization of results\n",
    "\n",
    "comp_1 = tsne_df[\"comp-1\"]\n",
    "comp_2 = tsne_df[\"comp-2\"]\n",
    "\n",
    "kwargs = dict (linestyle='--', color='b', marker ='o', linewidth=1.2, markersize=2)\n",
    "\n",
    "sns.scatterplot(x=\"comp-1\", y=\"comp-2\",\n",
    "                data=tsne_df).set(title=\"BookMatch T-SNE projection\");"
   ]
  },
  {
   "attachments": {},
   "cell_type": "markdown",
   "metadata": {},
   "source": [
    "#### Silhouette scoring"
   ]
  },
  {
   "cell_type": "code",
   "execution_count": 89,
   "metadata": {},
   "outputs": [],
   "source": [
    "from sklearn.metrics import silhouette_score"
   ]
  },
  {
   "cell_type": "code",
   "execution_count": null,
   "metadata": {},
   "outputs": [],
   "source": [
    "silhouette_score(vectorized_docs, clustering.labels_)"
   ]
  },
  {
   "cell_type": "code",
   "execution_count": null,
   "metadata": {},
   "outputs": [],
   "source": [
    "silhouette_score(bert_embeddings, clustering_bert.labels_)"
   ]
  },
  {
   "cell_type": "code",
   "execution_count": null,
   "metadata": {},
   "outputs": [],
   "source": [
    "linkage=['ward','complete', \"average\", \"single\"]\n",
    "n_clusters=[50, 75, 100, 125, 150]\n",
    "metric=[\"euclidian\", \"l1\", \"l2\", \"manhattan\", \"cosine\"]"
   ]
  },
  {
   "cell_type": "code",
   "execution_count": null,
   "metadata": {},
   "outputs": [],
   "source": [
    "clustering_bert = AgglomerativeClustering(n_clusters=3000, metric=\"cosine\", linkage=\"complete\").fit(bert_embeddings)\n",
    "silhouette_score(bert_embeddings, clustering_bert.labels_)"
   ]
  },
  {
   "cell_type": "code",
   "execution_count": null,
   "metadata": {},
   "outputs": [],
   "source": [
    "opti_k = {}\n",
    "\n",
    "for cluster in [50,100,200]:\n",
    "    opti_k[f\"clustering_bert_{cluster}\"] = AgglomerativeClustering(n_clusters=cluster).fit(bert_embeddings)   \n",
    "    opti_k[f\"silhouette_score_{cluster}\"] = silhouette_score(bert_embeddings, opti_k[f\"clustering_bert_{cluster}\"].labels_)\n",
    "    \n",
    "opti_k"
   ]
  },
  {
   "cell_type": "code",
   "execution_count": null,
   "metadata": {},
   "outputs": [],
   "source": [
    "opti_k2 = {}\n",
    "\n",
    "for cluster in [1500, 2000, 2500, 3000]:\n",
    "    opti_k2[f\"clustering_bert_{cluster}\"] = AgglomerativeClustering(n_clusters=cluster).fit(bert_embeddings)   \n",
    "    opti_k2[f\"silhouette_score_{cluster}\"] = silhouette_score(bert_embeddings, opti_k2[f\"clustering_bert_{cluster}\"].labels_)\n",
    "    \n",
    "opti_k2"
   ]
  },
  {
   "cell_type": "code",
   "execution_count": 91,
   "metadata": {},
   "outputs": [
    {
     "data": {
      "text/plain": [
       "Text(0, 0.5, 'silhouette_score')"
      ]
     },
     "execution_count": 91,
     "metadata": {},
     "output_type": "execute_result"
    },
    {
     "data": {
      "image/png": "[encoded data removed]",
      "text/plain": [
       "<Figure size 640x480 with 1 Axes>"
      ]
     },
     "metadata": {},
     "output_type": "display_data"
    }
   ],
   "source": [
    "silhouette_scores = []\n",
    "ks = [2500, 3000, 5000, 6500, 8500, 10_000]\n",
    "\n",
    "for k in ks:\n",
    "    km_test = AgglomerativeClustering(n_clusters=k).fit(bert_embeddings)\n",
    "    silhouette_scores.append(silhouette_score(bert_embeddings, km_test.labels_))\n",
    "\n",
    "plt.plot(ks, silhouette_scores)\n",
    "plt.xlabel('k cluster number')\n",
    "plt.ylabel('silhouette_score')"
   ]
  },
  {
   "attachments": {},
   "cell_type": "markdown",
   "metadata": {},
   "source": [
    "### BisectingKMeans "
   ]
  },
  {
   "cell_type": "code",
   "execution_count": null,
   "metadata": {},
   "outputs": [],
   "source": [
    "bisect_means = BisectingKMeans(n_clusters=N_CLUSTERS, random_state=1).fit(vectorized_docs)\n",
    "bisect_means_bert = BisectingKMeans(n_clusters=N_CLUSTERS, random_state=1).fit(bert_embeddings)"
   ]
  },
  {
   "cell_type": "code",
   "execution_count": null,
   "metadata": {},
   "outputs": [],
   "source": [
    "X_reviews[\"bisectings\"] = bisect_means.labels_\n",
    "X_reviews_bert[\"bisectings_bert\"] = bisect_means_bert.labels_"
   ]
  },
  {
   "attachments": {},
   "cell_type": "markdown",
   "metadata": {},
   "source": [
    "### Loading metadata and merging it"
   ]
  },
  {
   "cell_type": "code",
   "execution_count": 37,
   "metadata": {},
   "outputs": [],
   "source": [
    "metadata_movies = pd.read_json(\"./../data/raw_data/raw_movies/metadata.json\", lines=True)\n",
    "metadata_books = pd.read_json(\"./../data/raw_data/raw_book/metadata.json\", lines=True)"
   ]
  },
  {
   "cell_type": "code",
   "execution_count": 38,
   "metadata": {},
   "outputs": [],
   "source": [
    "metadata_movies.rename({\"item_id\":\"item_id_movie\", \"title\":\"movie_title\"}, axis='columns',inplace=True)\n",
    "metadata_books.rename({\"item_id\":\"item_id_book\", \"title\":\"book_title\"}, axis='columns',inplace=True)"
   ]
  },
  {
   "cell_type": "code",
   "execution_count": null,
   "metadata": {},
   "outputs": [],
   "source": [
    "merged_movies = pd.merge(X_reviews, metadata_movies, on=\"item_id_movie\", how=\"left\")\n",
    "merged_all = pd.merge(merged_movies, metadata_books, on=\"item_id_book\", how=\"left\")"
   ]
  },
  {
   "cell_type": "code",
   "execution_count": 39,
   "metadata": {},
   "outputs": [],
   "source": [
    "merged_movies_bert = pd.merge(X_reviews_bert, metadata_movies, on=\"item_id_movie\", how=\"left\")\n",
    "merged_all_bert = pd.merge(merged_movies_bert, metadata_books, on=\"item_id_book\", how=\"left\")"
   ]
  },
  {
   "cell_type": "code",
   "execution_count": null,
   "metadata": {},
   "outputs": [],
   "source": [
    "final_df = merged_all[[\"movie_title\",\"book_title\",\"clustering_label\", \"Kmeans_label\", \"bisectings\", \"is_movie\" ]]\n",
    "final_df = final_df.fillna(\"\")\n",
    "final_df[\"clustering_label\"].value_counts()"
   ]
  },
  {
   "cell_type": "code",
   "execution_count": null,
   "metadata": {},
   "outputs": [],
   "source": [
    "bert = merged_all_bert[[\"movie_title\",\"book_title\",\"clustering_label_bert\", \"Kmeans_label_bert\", \"bisectings_bert\", \"is_movie\" ]]\n",
    "bert = bert.fillna(\"\")"
   ]
  },
  {
   "cell_type": "code",
   "execution_count": 57,
   "metadata": {},
   "outputs": [
    {
     "data": {
      "text/html": [
       "<div>\n",
       "<style scoped>\n",
       "    .dataframe tbody tr th:only-of-type {\n",
       "        vertical-align: middle;\n",
       "    }\n",
       "\n",
       "    .dataframe tbody tr th {\n",
       "        vertical-align: top;\n",
       "    }\n",
       "\n",
       "    .dataframe thead th {\n",
       "        text-align: right;\n",
       "    }\n",
       "</style>\n",
       "<table border=\"1\" class=\"dataframe\">\n",
       "  <thead>\n",
       "    <tr style=\"text-align: right;\">\n",
       "      <th></th>\n",
       "      <th>movie_title</th>\n",
       "      <th>directedBy</th>\n",
       "      <th>starring</th>\n",
       "      <th>dateAdded</th>\n",
       "      <th>avgRating</th>\n",
       "      <th>imdbId</th>\n",
       "      <th>item_id_movie</th>\n",
       "    </tr>\n",
       "  </thead>\n",
       "  <tbody>\n",
       "    <tr>\n",
       "      <th>0</th>\n",
       "      <td>Toy Story (1995)</td>\n",
       "      <td>John Lasseter</td>\n",
       "      <td>Tim Allen, Tom Hanks, Don Rickles, Jim Varney,...</td>\n",
       "      <td>None</td>\n",
       "      <td>3.89146</td>\n",
       "      <td>114709</td>\n",
       "      <td>1</td>\n",
       "    </tr>\n",
       "    <tr>\n",
       "      <th>1</th>\n",
       "      <td>Jumanji (1995)</td>\n",
       "      <td>Joe Johnston</td>\n",
       "      <td>Jonathan Hyde, Bradley Pierce, Robin Williams,...</td>\n",
       "      <td>None</td>\n",
       "      <td>3.26605</td>\n",
       "      <td>113497</td>\n",
       "      <td>2</td>\n",
       "    </tr>\n",
       "    <tr>\n",
       "      <th>2</th>\n",
       "      <td>Grumpier Old Men (1995)</td>\n",
       "      <td>Howard Deutch</td>\n",
       "      <td>Jack Lemmon, Walter Matthau, Ann-Margret , Sop...</td>\n",
       "      <td>None</td>\n",
       "      <td>3.17146</td>\n",
       "      <td>113228</td>\n",
       "      <td>3</td>\n",
       "    </tr>\n",
       "    <tr>\n",
       "      <th>3</th>\n",
       "      <td>Waiting to Exhale (1995)</td>\n",
       "      <td>Forest Whitaker</td>\n",
       "      <td>Angela Bassett, Loretta Devine, Whitney Housto...</td>\n",
       "      <td>None</td>\n",
       "      <td>2.86824</td>\n",
       "      <td>114885</td>\n",
       "      <td>4</td>\n",
       "    </tr>\n",
       "    <tr>\n",
       "      <th>4</th>\n",
       "      <td>Father of the Bride Part II (1995)</td>\n",
       "      <td>Charles Shyer</td>\n",
       "      <td>Steve Martin, Martin Short, Diane Keaton, Kimb...</td>\n",
       "      <td>None</td>\n",
       "      <td>3.07620</td>\n",
       "      <td>113041</td>\n",
       "      <td>5</td>\n",
       "    </tr>\n",
       "    <tr>\n",
       "      <th>...</th>\n",
       "      <td>...</td>\n",
       "      <td>...</td>\n",
       "      <td>...</td>\n",
       "      <td>...</td>\n",
       "      <td>...</td>\n",
       "      <td>...</td>\n",
       "      <td>...</td>\n",
       "    </tr>\n",
       "    <tr>\n",
       "      <th>84656</th>\n",
       "      <td>The Tenth Level (1976)</td>\n",
       "      <td>Charles S. Dubin</td>\n",
       "      <td>William Shatner,Lynn Carlin,Ossie Davis,Viveca...</td>\n",
       "      <td>2021-02-11T20:42:38</td>\n",
       "      <td>0.00000</td>\n",
       "      <td>75320</td>\n",
       "      <td>239306</td>\n",
       "    </tr>\n",
       "    <tr>\n",
       "      <th>84657</th>\n",
       "      <td>Nightmare (1974)</td>\n",
       "      <td>William Hale</td>\n",
       "      <td>Richard Crenna,Patty Duke,Vic Morrow,Arlene Go...</td>\n",
       "      <td>2021-02-11T20:43:02</td>\n",
       "      <td>0.00000</td>\n",
       "      <td>71911</td>\n",
       "      <td>239308</td>\n",
       "    </tr>\n",
       "    <tr>\n",
       "      <th>84658</th>\n",
       "      <td>Pee Nak (2019)</td>\n",
       "      <td>Phontharis Chotkijsadarsopon</td>\n",
       "      <td>Chinawut Indracusin,Paisarnkulwong Vachiravit,...</td>\n",
       "      <td>2021-02-11T22:52:12</td>\n",
       "      <td>0.00000</td>\n",
       "      <td>8258474</td>\n",
       "      <td>239310</td>\n",
       "    </tr>\n",
       "    <tr>\n",
       "      <th>84659</th>\n",
       "      <td>Pee Nak 2 (2020)</td>\n",
       "      <td>Phontharis Chotkijsadarsopon</td>\n",
       "      <td>วชิรวิชญ์ ไพศาลกุลวงศ์,ภูริพรรธน์ เวชวงศาเตชาว...</td>\n",
       "      <td>2021-02-11T22:53:01</td>\n",
       "      <td>0.00000</td>\n",
       "      <td>11906412</td>\n",
       "      <td>239312</td>\n",
       "    </tr>\n",
       "    <tr>\n",
       "      <th>84660</th>\n",
       "      <td>The Making of the Philadelphia Eagles Cheerlea...</td>\n",
       "      <td></td>\n",
       "      <td>Steve Vaccariello,Barbara Zaun,Rob Babik,Brad ...</td>\n",
       "      <td>2021-02-12T00:16:52</td>\n",
       "      <td>0.00000</td>\n",
       "      <td>1533803</td>\n",
       "      <td>239314</td>\n",
       "    </tr>\n",
       "  </tbody>\n",
       "</table>\n",
       "<p>84661 rows × 7 columns</p>\n",
       "</div>"
      ],
      "text/plain": [
       "                                             movie_title  \\\n",
       "0                                       Toy Story (1995)   \n",
       "1                                         Jumanji (1995)   \n",
       "2                                Grumpier Old Men (1995)   \n",
       "3                               Waiting to Exhale (1995)   \n",
       "4                     Father of the Bride Part II (1995)   \n",
       "...                                                  ...   \n",
       "84656                             The Tenth Level (1976)   \n",
       "84657                                   Nightmare (1974)   \n",
       "84658                                     Pee Nak (2019)   \n",
       "84659                                   Pee Nak 2 (2020)   \n",
       "84660  The Making of the Philadelphia Eagles Cheerlea...   \n",
       "\n",
       "                         directedBy  \\\n",
       "0                     John Lasseter   \n",
       "1                      Joe Johnston   \n",
       "2                     Howard Deutch   \n",
       "3                   Forest Whitaker   \n",
       "4                     Charles Shyer   \n",
       "...                             ...   \n",
       "84656              Charles S. Dubin   \n",
       "84657                  William Hale   \n",
       "84658  Phontharis Chotkijsadarsopon   \n",
       "84659  Phontharis Chotkijsadarsopon   \n",
       "84660                                 \n",
       "\n",
       "                                                starring            dateAdded  \\\n",
       "0      Tim Allen, Tom Hanks, Don Rickles, Jim Varney,...                 None   \n",
       "1      Jonathan Hyde, Bradley Pierce, Robin Williams,...                 None   \n",
       "2      Jack Lemmon, Walter Matthau, Ann-Margret , Sop...                 None   \n",
       "3      Angela Bassett, Loretta Devine, Whitney Housto...                 None   \n",
       "4      Steve Martin, Martin Short, Diane Keaton, Kimb...                 None   \n",
       "...                                                  ...                  ...   \n",
       "84656  William Shatner,Lynn Carlin,Ossie Davis,Viveca...  2021-02-11T20:42:38   \n",
       "84657  Richard Crenna,Patty Duke,Vic Morrow,Arlene Go...  2021-02-11T20:43:02   \n",
       "84658  Chinawut Indracusin,Paisarnkulwong Vachiravit,...  2021-02-11T22:52:12   \n",
       "84659  วชิรวิชญ์ ไพศาลกุลวงศ์,ภูริพรรธน์ เวชวงศาเตชาว...  2021-02-11T22:53:01   \n",
       "84660  Steve Vaccariello,Barbara Zaun,Rob Babik,Brad ...  2021-02-12T00:16:52   \n",
       "\n",
       "       avgRating    imdbId  item_id_movie  \n",
       "0        3.89146    114709              1  \n",
       "1        3.26605    113497              2  \n",
       "2        3.17146    113228              3  \n",
       "3        2.86824    114885              4  \n",
       "4        3.07620    113041              5  \n",
       "...          ...       ...            ...  \n",
       "84656    0.00000     75320         239306  \n",
       "84657    0.00000     71911         239308  \n",
       "84658    0.00000   8258474         239310  \n",
       "84659    0.00000  11906412         239312  \n",
       "84660    0.00000   1533803         239314  \n",
       "\n",
       "[84661 rows x 7 columns]"
      ]
     },
     "execution_count": 57,
     "metadata": {},
     "output_type": "execute_result"
    }
   ],
   "source": [
    "metadata_movies"
   ]
  },
  {
   "cell_type": "code",
   "execution_count": 56,
   "metadata": {},
   "outputs": [
    {
     "data": {
      "text/html": [
       "<div>\n",
       "<style scoped>\n",
       "    .dataframe tbody tr th:only-of-type {\n",
       "        vertical-align: middle;\n",
       "    }\n",
       "\n",
       "    .dataframe tbody tr th {\n",
       "        vertical-align: top;\n",
       "    }\n",
       "\n",
       "    .dataframe thead th {\n",
       "        text-align: right;\n",
       "    }\n",
       "</style>\n",
       "<table border=\"1\" class=\"dataframe\">\n",
       "  <thead>\n",
       "    <tr style=\"text-align: right;\">\n",
       "      <th></th>\n",
       "      <th>clustering_label_bert</th>\n",
       "      <th>is_movie</th>\n",
       "      <th>title</th>\n",
       "    </tr>\n",
       "  </thead>\n",
       "  <tbody>\n",
       "    <tr>\n",
       "      <th>0</th>\n",
       "      <td>60</td>\n",
       "      <td>1</td>\n",
       "      <td>Toy Story (1995)</td>\n",
       "    </tr>\n",
       "    <tr>\n",
       "      <th>1</th>\n",
       "      <td>288</td>\n",
       "      <td>1</td>\n",
       "      <td>Jumanji (1995)</td>\n",
       "    </tr>\n",
       "    <tr>\n",
       "      <th>2</th>\n",
       "      <td>738</td>\n",
       "      <td>1</td>\n",
       "      <td>Waiting to Exhale (1995)</td>\n",
       "    </tr>\n",
       "    <tr>\n",
       "      <th>3</th>\n",
       "      <td>223</td>\n",
       "      <td>1</td>\n",
       "      <td>Father of the Bride Part II (1995)</td>\n",
       "    </tr>\n",
       "    <tr>\n",
       "      <th>4</th>\n",
       "      <td>163</td>\n",
       "      <td>1</td>\n",
       "      <td>Heat (1995)</td>\n",
       "    </tr>\n",
       "    <tr>\n",
       "      <th>...</th>\n",
       "      <td>...</td>\n",
       "      <td>...</td>\n",
       "      <td>...</td>\n",
       "    </tr>\n",
       "    <tr>\n",
       "      <th>12082</th>\n",
       "      <td>275</td>\n",
       "      <td>0</td>\n",
       "      <td>Book of the Dead (Kay Scarpetta, #15)</td>\n",
       "    </tr>\n",
       "    <tr>\n",
       "      <th>12083</th>\n",
       "      <td>277</td>\n",
       "      <td>0</td>\n",
       "      <td>The Silmarillion</td>\n",
       "    </tr>\n",
       "    <tr>\n",
       "      <th>12084</th>\n",
       "      <td>561</td>\n",
       "      <td>0</td>\n",
       "      <td>Morality for Beautiful Girls (No. 1 Ladies' De...</td>\n",
       "    </tr>\n",
       "    <tr>\n",
       "      <th>12085</th>\n",
       "      <td>653</td>\n",
       "      <td>0</td>\n",
       "      <td>Runaways, Vol. 1: Pride and Joy (Runaways, #1)</td>\n",
       "    </tr>\n",
       "    <tr>\n",
       "      <th>12086</th>\n",
       "      <td>134</td>\n",
       "      <td>0</td>\n",
       "      <td>The Android's Dream</td>\n",
       "    </tr>\n",
       "  </tbody>\n",
       "</table>\n",
       "<p>12087 rows × 3 columns</p>\n",
       "</div>"
      ],
      "text/plain": [
       "       clustering_label_bert  is_movie  \\\n",
       "0                         60         1   \n",
       "1                        288         1   \n",
       "2                        738         1   \n",
       "3                        223         1   \n",
       "4                        163         1   \n",
       "...                      ...       ...   \n",
       "12082                    275         0   \n",
       "12083                    277         0   \n",
       "12084                    561         0   \n",
       "12085                    653         0   \n",
       "12086                    134         0   \n",
       "\n",
       "                                                   title  \n",
       "0                                       Toy Story (1995)  \n",
       "1                                         Jumanji (1995)  \n",
       "2                               Waiting to Exhale (1995)  \n",
       "3                     Father of the Bride Part II (1995)  \n",
       "4                                            Heat (1995)  \n",
       "...                                                  ...  \n",
       "12082              Book of the Dead (Kay Scarpetta, #15)  \n",
       "12083                                   The Silmarillion  \n",
       "12084  Morality for Beautiful Girls (No. 1 Ladies' De...  \n",
       "12085     Runaways, Vol. 1: Pride and Joy (Runaways, #1)  \n",
       "12086                                The Android's Dream  \n",
       "\n",
       "[12087 rows x 3 columns]"
      ]
     },
     "execution_count": 56,
     "metadata": {},
     "output_type": "execute_result"
    }
   ],
   "source": [
    "bert"
   ]
  },
  {
   "cell_type": "code",
   "execution_count": null,
   "metadata": {},
   "outputs": [],
   "source": [
    "final_df[final_df[\"movie_title\"].str.contains(\"potter\", case=False)]"
   ]
  },
  {
   "cell_type": "code",
   "execution_count": null,
   "metadata": {},
   "outputs": [],
   "source": [
    "final_df[final_df[\"book_title\"].str.contains(\"potter\", case=False)]"
   ]
  },
  {
   "cell_type": "code",
   "execution_count": null,
   "metadata": {},
   "outputs": [],
   "source": [
    "bert[bert[\"movie_title\"].str.contains(\"potter\", case=False)]"
   ]
  },
  {
   "cell_type": "code",
   "execution_count": null,
   "metadata": {},
   "outputs": [],
   "source": [
    "bert[bert[\"book_title\"].str.contains(\"potter\", case=False)]"
   ]
  }
 ],
 "metadata": {
  "kernelspec": {
   "display_name": "BookMatch",
   "language": "python",
   "name": "python3"
  },
  "language_info": {
   "codemirror_mode": {
    "name": "ipython",
    "version": 3
   },
   "file_extension": ".py",
   "mimetype": "text/x-python",
   "name": "python",
   "nbconvert_exporter": "python",
   "pygments_lexer": "ipython3",
   "version": "3.10.6"
  },
  "orig_nbformat": 4
 },
 "nbformat": 4,
 "nbformat_minor": 2
}
