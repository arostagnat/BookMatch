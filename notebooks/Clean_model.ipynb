{
 "cells": [
  {
   "attachments": {},
   "cell_type": "markdown",
   "metadata": {},
   "source": [
    "# Imports"
   ]
  },
  {
   "cell_type": "code",
   "execution_count": null,
   "metadata": {},
   "outputs": [],
   "source": [
    "import pandas as pd\n",
    "import numpy as np\n",
    "import itertools\n",
    "import matplotlib.pyplot as plt\n",
    "%matplotlib inline\n",
    "import pickle\n",
    "import gensim.downloader as api\n",
    "import pandas as pd\n",
    "import numpy as np\n",
    "import string\n",
    "from nltk.tokenize import word_tokenize\n",
    "from nltk.corpus import stopwords\n",
    "from nltk.stem.wordnet import WordNetLemmatizer"
   ]
  },
  {
   "cell_type": "code",
   "execution_count": null,
   "metadata": {},
   "outputs": [],
   "source": [
    "X_book_description"
   ]
  },
  {
   "attachments": {},
   "cell_type": "markdown",
   "metadata": {},
   "source": [
    "# Data Loading"
   ]
  },
  {
   "cell_type": "code",
   "execution_count": null,
   "metadata": {},
   "outputs": [],
   "source": [
    "# X_reviews = pd.read_csv(\"../data/proc_data/X_raw_1000_jsonlines.csv\")\n",
    "X_book_description = pd.read_json(\"./../data/raw_data/raw_book/metadata.json\", lines=True)"
   ]
  },
  {
   "cell_type": "code",
   "execution_count": null,
   "metadata": {},
   "outputs": [],
   "source": [
    "X_movie_description = pd.read_csv(\"./../data/raw_data/raw_movies/df_overview.csv\")"
   ]
  },
  {
   "cell_type": "code",
   "execution_count": null,
   "metadata": {},
   "outputs": [],
   "source": [
    "X_movie_description.drop(columns=\"imdb_id\", inplace=True)"
   ]
  },
  {
   "cell_type": "code",
   "execution_count": null,
   "metadata": {},
   "outputs": [],
   "source": [
    "X_movie_description.rename(columns={\"overview\": \"txt\", \"id\":\"item_id\"},inplace=True)"
   ]
  },
  {
   "cell_type": "code",
   "execution_count": null,
   "metadata": {},
   "outputs": [],
   "source": [
    "X_movie_description.dropna(subset=['txt'], inplace=True)"
   ]
  },
  {
   "cell_type": "code",
   "execution_count": null,
   "metadata": {},
   "outputs": [],
   "source": [
    "X_book_description.drop(columns=[\"url\", \"authors\", \"lang\", \"img\", \"year\"], inplace=True)"
   ]
  },
  {
   "cell_type": "code",
   "execution_count": null,
   "metadata": {},
   "outputs": [],
   "source": [
    "def Cleaner_light(df, list_stop_words=None, see_evolution=False):\n",
    "    \"\"\"Cleaner_light\n",
    "    Args:\n",
    "        df (pd.DataFrame): need a column txt for the process\n",
    "        list_stop_words (list(str), optional): a list for remove a few word. Defaults to None.\n",
    "        see_evolution (bool, optional): print the evolution of the function. Defaults to False.\n",
    "    Returns:\n",
    "        pd.DataFrame: return the DataFrame processed\n",
    "    \"\"\"\n",
    "    # Initialisation\n",
    "    if see_evolution:\n",
    "        print(\"\\nStart Cleaner_light ... 🏃\\nInitialisation ...\\n\")\n",
    "\n",
    "    # Liste de ponctuation conservée -> !&'(),-.:=?`\n",
    "    # Liste de ponctuation supprimée -> \"#$%*+/;<>@[\\]^_`{|}~\n",
    "    punctuation = string.punctuation + \"\"\n",
    "    punctuation.replace(\"!&'(),-.:=?`\", \"\")\n",
    "\n",
    "    # Transformation des stop words, copie et ajout d'une majuscule :\n",
    "    # film --> film, Film\n",
    "    if list_stop_words:\n",
    "        list_stop_words_process = []\n",
    "        for word in list_stop_words:\n",
    "            list_stop_words_process.append(word)\n",
    "            list_stop_words_process.append(word.capitalize())\n",
    "\n",
    "    # Run cleaner\n",
    "    if see_evolution:\n",
    "        print(\"Run process ...\")\n",
    "\n",
    "    df.replace({r\"[^\\x00-\\x7F]+\":\"\"}, regex=True, inplace=True)\n",
    "    df.replace(punctuation, \"\")\n",
    "\n",
    "    \n",
    "    if list_stop_words:\n",
    "        df.txt = [word_tokenize(text) for text in df.txt]\n",
    "        out_list = []\n",
    "        for text in df.txt:\n",
    "            out_text = []\n",
    "            for word in text:\n",
    "                if not word in list_stop_words_process:\n",
    "                    out_text.append(word)\n",
    "            out_list.append(\" \".join(out_text))\n",
    "        df.txt = out_list\n",
    "\n",
    "    df.dropna(inplace=True)\n",
    "\n",
    "    if see_evolution:\n",
    "        print(\"\\n✅ Cleaner_light is done !\\n\")\n",
    "\n",
    "    return df\n",
    "\n"
   ]
  },
  {
   "cell_type": "code",
   "execution_count": null,
   "metadata": {},
   "outputs": [],
   "source": [
    "def flatten_txt(data,id=\"item_id\",colname=\"txt\"):\n",
    "    \"\"\"\n",
    "    permet de concat les \"txt\" de dataframe par \"item_im\"\n",
    "    et renvoit un df avec autant de lignes que de item_id\n",
    "    \"\"\"\n",
    "    return data.groupby(id, as_index=False).agg({colname: \" \".join})"
   ]
  },
  {
   "cell_type": "code",
   "execution_count": null,
   "metadata": {},
   "outputs": [],
   "source": [
    "X_book_description.rename(columns={\"description\": \"txt\"},inplace=True)"
   ]
  },
  {
   "cell_type": "code",
   "execution_count": null,
   "metadata": {},
   "outputs": [],
   "source": [
    "X_book_description.dropna(subset=['txt'], inplace=True)"
   ]
  },
  {
   "cell_type": "code",
   "execution_count": null,
   "metadata": {},
   "outputs": [],
   "source": [
    "chunk_flat=flatten_txt(data=X_book_description,id=\"item_id\",colname=\"txt\")\n",
    "chunk_flat_clean=Cleaner_light(chunk_flat, see_evolution=True)"
   ]
  },
  {
   "cell_type": "code",
   "execution_count": null,
   "metadata": {},
   "outputs": [],
   "source": [
    "chunk_flat_movie=flatten_txt(data=X_movie_description,id=\"item_id\",colname=\"txt\")\n",
    "movie_description_cleaned=Cleaner_light(chunk_flat_movie, see_evolution=True)"
   ]
  },
  {
   "cell_type": "code",
   "execution_count": null,
   "metadata": {},
   "outputs": [],
   "source": [
    "movie_description_cleaned.head()"
   ]
  },
  {
   "cell_type": "code",
   "execution_count": null,
   "metadata": {},
   "outputs": [],
   "source": [
    "chunk_flat_clean.head()"
   ]
  },
  {
   "cell_type": "code",
   "execution_count": null,
   "metadata": {},
   "outputs": [],
   "source": [
    "movie_description_cleaned[\"is_movie\"] = 1\n",
    "chunk_flat_clean[\"is_movie\"] = 0"
   ]
  },
  {
   "cell_type": "code",
   "execution_count": null,
   "metadata": {},
   "outputs": [],
   "source": [
    "X_description = pd.concat([chunk_flat_clean, movie_description_cleaned])"
   ]
  },
  {
   "attachments": {},
   "cell_type": "markdown",
   "metadata": {},
   "source": [
    "# Bert embedding\n"
   ]
  },
  {
   "cell_type": "code",
   "execution_count": null,
   "metadata": {},
   "outputs": [],
   "source": [
    "from sklearn.cluster import KMeans, MiniBatchKMeans, AgglomerativeClustering, Birch, BisectingKMeans\n",
    "from sentence_transformers import SentenceTransformer # Make sure you have done a \"pip install -e .\" to have SentenceTransformer package installed"
   ]
  },
  {
   "cell_type": "code",
   "execution_count": null,
   "metadata": {},
   "outputs": [],
   "source": [
    "bert = SentenceTransformer('all-MiniLM-L6-v2') "
   ]
  },
  {
   "cell_type": "code",
   "execution_count": null,
   "metadata": {},
   "outputs": [],
   "source": [
    "bert_embeddings = bert.encode(movie_description_cleaned[\"txt\"]) \n",
    "np.shape(bert_embeddings)"
   ]
  },
  {
   "cell_type": "code",
   "execution_count": null,
   "metadata": {},
   "outputs": [],
   "source": [
    "bert_embeddings_books = bert.encode(chunk_flat_clean[\"txt\"]) \n",
    "np.shape(bert_embeddings)"
   ]
  },
  {
   "cell_type": "code",
   "execution_count": null,
   "metadata": {},
   "outputs": [],
   "source": [
    "bert_embedding_complete = np.vstack((bert_embeddings_books,bert_embeddings))"
   ]
  },
  {
   "attachments": {},
   "cell_type": "markdown",
   "metadata": {},
   "source": [
    "# Agglomerative clustering"
   ]
  },
  {
   "cell_type": "code",
   "execution_count": null,
   "metadata": {},
   "outputs": [],
   "source": [
    "N_CLUSTER = 200"
   ]
  },
  {
   "cell_type": "code",
   "execution_count": null,
   "metadata": {},
   "outputs": [],
   "source": [
    "clustering_bert = AgglomerativeClustering(n_clusters=N_CLUSTER).fit(bert_embedding_complete)"
   ]
  },
  {
   "cell_type": "code",
   "execution_count": null,
   "metadata": {},
   "outputs": [],
   "source": [
    "X_description[\"clustering_label_bert\"] = clustering_bert.labels_"
   ]
  },
  {
   "attachments": {},
   "cell_type": "markdown",
   "metadata": {},
   "source": [
    "# Loading metadata"
   ]
  },
  {
   "cell_type": "code",
   "execution_count": null,
   "metadata": {},
   "outputs": [],
   "source": [
    "metadata_movies = pd.read_json(\"./../data/raw_data/raw_movies/metadata.json\", lines=True)\n",
    "metadata_books = pd.read_json(\"./../data/raw_data/raw_book/metadata.json\", lines=True)"
   ]
  },
  {
   "cell_type": "code",
   "execution_count": null,
   "metadata": {},
   "outputs": [],
   "source": [
    "metadata_movies.rename({\"item_id\":\"item_id_movie\", \"title\":\"movie_title\"}, axis='columns',inplace=True)\n",
    "metadata_books.rename({\"item_id\":\"item_id_book\", \"title\":\"book_title\"}, axis='columns',inplace=True)"
   ]
  },
  {
   "cell_type": "code",
   "execution_count": null,
   "metadata": {},
   "outputs": [],
   "source": [
    "merged_movies_complete = pd.merge(X_reviews, metadata_movies, on=\"item_id_movie\", how=\"left\")\n",
    "merged_all_bert = pd.merge(merged_movies_complete, metadata_books, on=\"item_id_book\", how=\"left\")"
   ]
  },
  {
   "cell_type": "code",
   "execution_count": null,
   "metadata": {},
   "outputs": [],
   "source": [
    "clustered = merged_all_bert[[\"movie_title\",\"book_title\",\"clustering_label_bert\",\"is_movie\", \"item_id_movie\", \"item_id_book\" ]]\n",
    "clustered = clustered.fillna(\"\")"
   ]
  },
  {
   "attachments": {},
   "cell_type": "markdown",
   "metadata": {},
   "source": [
    "# Pickle file to get faster"
   ]
  },
  {
   "cell_type": "code",
   "execution_count": 1,
   "metadata": {},
   "outputs": [],
   "source": [
    "import pandas as pd\n",
    "import pickle"
   ]
  },
  {
   "cell_type": "code",
   "execution_count": 11,
   "metadata": {},
   "outputs": [],
   "source": [
    "from bookmatch.params import *\n",
    "from pathlib import Path"
   ]
  },
  {
   "cell_type": "code",
   "execution_count": 12,
   "metadata": {},
   "outputs": [],
   "source": [
    "filename1=Path(LOCAL_CSV_POSTPROCESS_PATH).joinpath(\"X_all.pickle\")"
   ]
  },
  {
   "cell_type": "code",
   "execution_count": 16,
   "metadata": {},
   "outputs": [],
   "source": [
    "with open(filename1, 'rb') as handle:\n",
    "    X_all = pickle.load(handle)"
   ]
  },
  {
   "cell_type": "code",
   "execution_count": 4,
   "metadata": {},
   "outputs": [
    {
     "name": "stdout",
     "output_type": "stream",
     "text": [
      "/home/arostagnat/code/arostagnat/BookMatch/notebooks\n"
     ]
    }
   ],
   "source": [
    "!pwd"
   ]
  },
  {
   "cell_type": "code",
   "execution_count": 7,
   "metadata": {},
   "outputs": [],
   "source": [
    "X_all = pd.read_csv(\"./../data/post_process_data/X_all.csv\")"
   ]
  },
  {
   "cell_type": "code",
   "execution_count": 10,
   "metadata": {},
   "outputs": [],
   "source": [
    "# # Store data (serialize)\n",
    "with open('./../data/post_process_data/X_all.pickle', 'wb') as handle:\n",
    "     pickle.dump(X_all, handle, protocol=pickle.HIGHEST_PROTOCOL)"
   ]
  },
  {
   "cell_type": "code",
   "execution_count": 2,
   "metadata": {},
   "outputs": [],
   "source": [
    "# Load data (deserialize)\n",
    "with open('./../data/post_process_data/X_all.pickle', 'rb') as handle:\n",
    "    X_all = pickle.load(handle)"
   ]
  },
  {
   "cell_type": "code",
   "execution_count": 3,
   "metadata": {},
   "outputs": [
    {
     "data": {
      "text/html": [
       "<div>\n",
       "<style scoped>\n",
       "    .dataframe tbody tr th:only-of-type {\n",
       "        vertical-align: middle;\n",
       "    }\n",
       "\n",
       "    .dataframe tbody tr th {\n",
       "        vertical-align: top;\n",
       "    }\n",
       "\n",
       "    .dataframe thead th {\n",
       "        text-align: right;\n",
       "    }\n",
       "</style>\n",
       "<table border=\"1\" class=\"dataframe\">\n",
       "  <thead>\n",
       "    <tr style=\"text-align: right;\">\n",
       "      <th></th>\n",
       "      <th>Unnamed: 0</th>\n",
       "      <th>item_id_movie</th>\n",
       "      <th>is_movie</th>\n",
       "      <th>item_id_book</th>\n",
       "      <th>clustering_label_bert</th>\n",
       "      <th>vector</th>\n",
       "      <th>title_movie</th>\n",
       "      <th>title_book</th>\n",
       "    </tr>\n",
       "  </thead>\n",
       "  <tbody>\n",
       "    <tr>\n",
       "      <th>0</th>\n",
       "      <td>0</td>\n",
       "      <td>-1.0</td>\n",
       "      <td>0.0</td>\n",
       "      <td>49566885.0</td>\n",
       "      <td>2048</td>\n",
       "      <td>[-6.75622448e-02 -1.38096279e-02  8.74609575e-...</td>\n",
       "      <td>NaN</td>\n",
       "      <td>The Contract (The Contract, #1)</td>\n",
       "    </tr>\n",
       "    <tr>\n",
       "      <th>1</th>\n",
       "      <td>1</td>\n",
       "      <td>-1.0</td>\n",
       "      <td>0.0</td>\n",
       "      <td>50941457.0</td>\n",
       "      <td>2048</td>\n",
       "      <td>[ 2.08302843e-03 -1.07728921e-01  2.19612103e-...</td>\n",
       "      <td>NaN</td>\n",
       "      <td>Everything for Her (For Her #1)</td>\n",
       "    </tr>\n",
       "    <tr>\n",
       "      <th>2</th>\n",
       "      <td>2</td>\n",
       "      <td>-1.0</td>\n",
       "      <td>0.0</td>\n",
       "      <td>51750675.0</td>\n",
       "      <td>2048</td>\n",
       "      <td>[-1.08228497e-01 -5.80898300e-02  1.58334207e-...</td>\n",
       "      <td>NaN</td>\n",
       "      <td>The Gender Game (The Gender Game, #1)</td>\n",
       "    </tr>\n",
       "    <tr>\n",
       "      <th>3</th>\n",
       "      <td>3</td>\n",
       "      <td>-1.0</td>\n",
       "      <td>0.0</td>\n",
       "      <td>48125855.0</td>\n",
       "      <td>769</td>\n",
       "      <td>[-2.13483274e-02 -1.30382717e-01  6.59563318e-...</td>\n",
       "      <td>NaN</td>\n",
       "      <td>The One Real Thing (Hart's Boardwalk, #1)</td>\n",
       "    </tr>\n",
       "    <tr>\n",
       "      <th>4</th>\n",
       "      <td>4</td>\n",
       "      <td>-1.0</td>\n",
       "      <td>0.0</td>\n",
       "      <td>48358625.0</td>\n",
       "      <td>769</td>\n",
       "      <td>[-1.14925623e-01 -5.53144850e-02  1.05959505e-...</td>\n",
       "      <td>NaN</td>\n",
       "      <td>The Wall of Winnipeg and Me</td>\n",
       "    </tr>\n",
       "  </tbody>\n",
       "</table>\n",
       "</div>"
      ],
      "text/plain": [
       "   Unnamed: 0  item_id_movie  is_movie  item_id_book  clustering_label_bert  \\\n",
       "0           0           -1.0       0.0    49566885.0                   2048   \n",
       "1           1           -1.0       0.0    50941457.0                   2048   \n",
       "2           2           -1.0       0.0    51750675.0                   2048   \n",
       "3           3           -1.0       0.0    48125855.0                    769   \n",
       "4           4           -1.0       0.0    48358625.0                    769   \n",
       "\n",
       "                                              vector title_movie  \\\n",
       "0  [-6.75622448e-02 -1.38096279e-02  8.74609575e-...         NaN   \n",
       "1  [ 2.08302843e-03 -1.07728921e-01  2.19612103e-...         NaN   \n",
       "2  [-1.08228497e-01 -5.80898300e-02  1.58334207e-...         NaN   \n",
       "3  [-2.13483274e-02 -1.30382717e-01  6.59563318e-...         NaN   \n",
       "4  [-1.14925623e-01 -5.53144850e-02  1.05959505e-...         NaN   \n",
       "\n",
       "                                  title_book  \n",
       "0            The Contract (The Contract, #1)  \n",
       "1            Everything for Her (For Her #1)  \n",
       "2      The Gender Game (The Gender Game, #1)  \n",
       "3  The One Real Thing (Hart's Boardwalk, #1)  \n",
       "4                The Wall of Winnipeg and Me  "
      ]
     },
     "execution_count": 3,
     "metadata": {},
     "output_type": "execute_result"
    }
   ],
   "source": [
    "X_all.head()"
   ]
  },
  {
   "cell_type": "code",
   "execution_count": 12,
   "metadata": {},
   "outputs": [],
   "source": [
    "X_vect_b = pd.read_csv(\"./../data/post_process_data/X_vect_b.csv\")"
   ]
  },
  {
   "cell_type": "code",
   "execution_count": 4,
   "metadata": {},
   "outputs": [],
   "source": [
    "with open('./../data/post_process_data/X_vect_b.pickle', 'rb') as handle:\n",
    "    X_vect_b = pickle.load(handle)"
   ]
  },
  {
   "cell_type": "code",
   "execution_count": 6,
   "metadata": {},
   "outputs": [
    {
     "data": {
      "text/html": [
       "<div>\n",
       "<style scoped>\n",
       "    .dataframe tbody tr th:only-of-type {\n",
       "        vertical-align: middle;\n",
       "    }\n",
       "\n",
       "    .dataframe tbody tr th {\n",
       "        vertical-align: top;\n",
       "    }\n",
       "\n",
       "    .dataframe thead th {\n",
       "        text-align: right;\n",
       "    }\n",
       "</style>\n",
       "<table border=\"1\" class=\"dataframe\">\n",
       "  <thead>\n",
       "    <tr style=\"text-align: right;\">\n",
       "      <th></th>\n",
       "      <th>item_id_book</th>\n",
       "      <th>0</th>\n",
       "      <th>1</th>\n",
       "      <th>2</th>\n",
       "      <th>3</th>\n",
       "      <th>4</th>\n",
       "      <th>5</th>\n",
       "      <th>6</th>\n",
       "      <th>7</th>\n",
       "      <th>8</th>\n",
       "      <th>...</th>\n",
       "      <th>374</th>\n",
       "      <th>375</th>\n",
       "      <th>376</th>\n",
       "      <th>377</th>\n",
       "      <th>378</th>\n",
       "      <th>379</th>\n",
       "      <th>380</th>\n",
       "      <th>381</th>\n",
       "      <th>382</th>\n",
       "      <th>383</th>\n",
       "    </tr>\n",
       "  </thead>\n",
       "  <tbody>\n",
       "    <tr>\n",
       "      <th>0</th>\n",
       "      <td>49566885.0</td>\n",
       "      <td>-0.067562</td>\n",
       "      <td>-0.013810</td>\n",
       "      <td>0.087461</td>\n",
       "      <td>0.010315</td>\n",
       "      <td>-0.034190</td>\n",
       "      <td>0.044712</td>\n",
       "      <td>-0.042676</td>\n",
       "      <td>-0.003757</td>\n",
       "      <td>-0.019110</td>\n",
       "      <td>...</td>\n",
       "      <td>0.038768</td>\n",
       "      <td>-0.013075</td>\n",
       "      <td>-0.029805</td>\n",
       "      <td>0.044801</td>\n",
       "      <td>-0.076599</td>\n",
       "      <td>0.070121</td>\n",
       "      <td>0.072632</td>\n",
       "      <td>0.016956</td>\n",
       "      <td>-0.016898</td>\n",
       "      <td>-0.009537</td>\n",
       "    </tr>\n",
       "    <tr>\n",
       "      <th>1</th>\n",
       "      <td>50941457.0</td>\n",
       "      <td>0.002083</td>\n",
       "      <td>-0.107729</td>\n",
       "      <td>0.021961</td>\n",
       "      <td>0.127054</td>\n",
       "      <td>-0.030593</td>\n",
       "      <td>0.014972</td>\n",
       "      <td>0.008145</td>\n",
       "      <td>-0.008593</td>\n",
       "      <td>0.053529</td>\n",
       "      <td>...</td>\n",
       "      <td>0.010641</td>\n",
       "      <td>-0.033515</td>\n",
       "      <td>-0.027384</td>\n",
       "      <td>0.058879</td>\n",
       "      <td>0.009330</td>\n",
       "      <td>0.029805</td>\n",
       "      <td>0.093590</td>\n",
       "      <td>-0.032974</td>\n",
       "      <td>-0.018067</td>\n",
       "      <td>-0.058421</td>\n",
       "    </tr>\n",
       "    <tr>\n",
       "      <th>2</th>\n",
       "      <td>51750675.0</td>\n",
       "      <td>-0.108228</td>\n",
       "      <td>-0.058090</td>\n",
       "      <td>0.015833</td>\n",
       "      <td>0.080706</td>\n",
       "      <td>-0.050521</td>\n",
       "      <td>0.051526</td>\n",
       "      <td>0.011741</td>\n",
       "      <td>-0.030256</td>\n",
       "      <td>0.043681</td>\n",
       "      <td>...</td>\n",
       "      <td>0.034389</td>\n",
       "      <td>0.027473</td>\n",
       "      <td>-0.004890</td>\n",
       "      <td>0.086042</td>\n",
       "      <td>-0.056711</td>\n",
       "      <td>0.059688</td>\n",
       "      <td>0.047612</td>\n",
       "      <td>-0.023292</td>\n",
       "      <td>-0.055406</td>\n",
       "      <td>0.059669</td>\n",
       "    </tr>\n",
       "    <tr>\n",
       "      <th>3</th>\n",
       "      <td>48125855.0</td>\n",
       "      <td>-0.021348</td>\n",
       "      <td>-0.130383</td>\n",
       "      <td>0.065956</td>\n",
       "      <td>0.012416</td>\n",
       "      <td>0.047087</td>\n",
       "      <td>0.028791</td>\n",
       "      <td>-0.077499</td>\n",
       "      <td>-0.062951</td>\n",
       "      <td>0.042728</td>\n",
       "      <td>...</td>\n",
       "      <td>0.043824</td>\n",
       "      <td>-0.011231</td>\n",
       "      <td>-0.092780</td>\n",
       "      <td>0.053753</td>\n",
       "      <td>-0.033295</td>\n",
       "      <td>0.061573</td>\n",
       "      <td>0.027644</td>\n",
       "      <td>-0.020969</td>\n",
       "      <td>-0.093529</td>\n",
       "      <td>0.010398</td>\n",
       "    </tr>\n",
       "    <tr>\n",
       "      <th>4</th>\n",
       "      <td>48358625.0</td>\n",
       "      <td>-0.114926</td>\n",
       "      <td>-0.055314</td>\n",
       "      <td>0.105960</td>\n",
       "      <td>-0.048345</td>\n",
       "      <td>0.007700</td>\n",
       "      <td>0.013659</td>\n",
       "      <td>-0.016277</td>\n",
       "      <td>0.022655</td>\n",
       "      <td>0.075105</td>\n",
       "      <td>...</td>\n",
       "      <td>0.035695</td>\n",
       "      <td>0.000972</td>\n",
       "      <td>-0.056826</td>\n",
       "      <td>0.052611</td>\n",
       "      <td>-0.052656</td>\n",
       "      <td>0.041356</td>\n",
       "      <td>0.056243</td>\n",
       "      <td>0.010263</td>\n",
       "      <td>-0.106852</td>\n",
       "      <td>-0.021320</td>\n",
       "    </tr>\n",
       "  </tbody>\n",
       "</table>\n",
       "<p>5 rows × 385 columns</p>\n",
       "</div>"
      ],
      "text/plain": [
       "   item_id_book         0         1         2         3         4         5  \\\n",
       "0    49566885.0 -0.067562 -0.013810  0.087461  0.010315 -0.034190  0.044712   \n",
       "1    50941457.0  0.002083 -0.107729  0.021961  0.127054 -0.030593  0.014972   \n",
       "2    51750675.0 -0.108228 -0.058090  0.015833  0.080706 -0.050521  0.051526   \n",
       "3    48125855.0 -0.021348 -0.130383  0.065956  0.012416  0.047087  0.028791   \n",
       "4    48358625.0 -0.114926 -0.055314  0.105960 -0.048345  0.007700  0.013659   \n",
       "\n",
       "          6         7         8  ...       374       375       376       377  \\\n",
       "0 -0.042676 -0.003757 -0.019110  ...  0.038768 -0.013075 -0.029805  0.044801   \n",
       "1  0.008145 -0.008593  0.053529  ...  0.010641 -0.033515 -0.027384  0.058879   \n",
       "2  0.011741 -0.030256  0.043681  ...  0.034389  0.027473 -0.004890  0.086042   \n",
       "3 -0.077499 -0.062951  0.042728  ...  0.043824 -0.011231 -0.092780  0.053753   \n",
       "4 -0.016277  0.022655  0.075105  ...  0.035695  0.000972 -0.056826  0.052611   \n",
       "\n",
       "        378       379       380       381       382       383  \n",
       "0 -0.076599  0.070121  0.072632  0.016956 -0.016898 -0.009537  \n",
       "1  0.009330  0.029805  0.093590 -0.032974 -0.018067 -0.058421  \n",
       "2 -0.056711  0.059688  0.047612 -0.023292 -0.055406  0.059669  \n",
       "3 -0.033295  0.061573  0.027644 -0.020969 -0.093529  0.010398  \n",
       "4 -0.052656  0.041356  0.056243  0.010263 -0.106852 -0.021320  \n",
       "\n",
       "[5 rows x 385 columns]"
      ]
     },
     "execution_count": 6,
     "metadata": {},
     "output_type": "execute_result"
    }
   ],
   "source": [
    "X_vect_b.head()"
   ]
  },
  {
   "cell_type": "code",
   "execution_count": 7,
   "metadata": {},
   "outputs": [],
   "source": [
    "X_vect_b=X_vect_b.set_index(\"item_id_book\")"
   ]
  },
  {
   "cell_type": "code",
   "execution_count": 8,
   "metadata": {},
   "outputs": [
    {
     "data": {
      "text/html": [
       "<div>\n",
       "<style scoped>\n",
       "    .dataframe tbody tr th:only-of-type {\n",
       "        vertical-align: middle;\n",
       "    }\n",
       "\n",
       "    .dataframe tbody tr th {\n",
       "        vertical-align: top;\n",
       "    }\n",
       "\n",
       "    .dataframe thead th {\n",
       "        text-align: right;\n",
       "    }\n",
       "</style>\n",
       "<table border=\"1\" class=\"dataframe\">\n",
       "  <thead>\n",
       "    <tr style=\"text-align: right;\">\n",
       "      <th></th>\n",
       "      <th>0</th>\n",
       "      <th>1</th>\n",
       "      <th>2</th>\n",
       "      <th>3</th>\n",
       "      <th>4</th>\n",
       "      <th>5</th>\n",
       "      <th>6</th>\n",
       "      <th>7</th>\n",
       "      <th>8</th>\n",
       "      <th>9</th>\n",
       "      <th>...</th>\n",
       "      <th>374</th>\n",
       "      <th>375</th>\n",
       "      <th>376</th>\n",
       "      <th>377</th>\n",
       "      <th>378</th>\n",
       "      <th>379</th>\n",
       "      <th>380</th>\n",
       "      <th>381</th>\n",
       "      <th>382</th>\n",
       "      <th>383</th>\n",
       "    </tr>\n",
       "    <tr>\n",
       "      <th>item_id_book</th>\n",
       "      <th></th>\n",
       "      <th></th>\n",
       "      <th></th>\n",
       "      <th></th>\n",
       "      <th></th>\n",
       "      <th></th>\n",
       "      <th></th>\n",
       "      <th></th>\n",
       "      <th></th>\n",
       "      <th></th>\n",
       "      <th></th>\n",
       "      <th></th>\n",
       "      <th></th>\n",
       "      <th></th>\n",
       "      <th></th>\n",
       "      <th></th>\n",
       "      <th></th>\n",
       "      <th></th>\n",
       "      <th></th>\n",
       "      <th></th>\n",
       "      <th></th>\n",
       "    </tr>\n",
       "  </thead>\n",
       "  <tbody>\n",
       "    <tr>\n",
       "      <th>49566885.0</th>\n",
       "      <td>-0.067562</td>\n",
       "      <td>-0.013810</td>\n",
       "      <td>0.087461</td>\n",
       "      <td>0.010315</td>\n",
       "      <td>-0.034190</td>\n",
       "      <td>0.044712</td>\n",
       "      <td>-0.042676</td>\n",
       "      <td>-0.003757</td>\n",
       "      <td>-0.019110</td>\n",
       "      <td>-0.066859</td>\n",
       "      <td>...</td>\n",
       "      <td>0.038768</td>\n",
       "      <td>-0.013075</td>\n",
       "      <td>-0.029805</td>\n",
       "      <td>0.044801</td>\n",
       "      <td>-0.076599</td>\n",
       "      <td>0.070121</td>\n",
       "      <td>0.072632</td>\n",
       "      <td>0.016956</td>\n",
       "      <td>-0.016898</td>\n",
       "      <td>-0.009537</td>\n",
       "    </tr>\n",
       "    <tr>\n",
       "      <th>50941457.0</th>\n",
       "      <td>0.002083</td>\n",
       "      <td>-0.107729</td>\n",
       "      <td>0.021961</td>\n",
       "      <td>0.127054</td>\n",
       "      <td>-0.030593</td>\n",
       "      <td>0.014972</td>\n",
       "      <td>0.008145</td>\n",
       "      <td>-0.008593</td>\n",
       "      <td>0.053529</td>\n",
       "      <td>-0.007840</td>\n",
       "      <td>...</td>\n",
       "      <td>0.010641</td>\n",
       "      <td>-0.033515</td>\n",
       "      <td>-0.027384</td>\n",
       "      <td>0.058879</td>\n",
       "      <td>0.009330</td>\n",
       "      <td>0.029805</td>\n",
       "      <td>0.093590</td>\n",
       "      <td>-0.032974</td>\n",
       "      <td>-0.018067</td>\n",
       "      <td>-0.058421</td>\n",
       "    </tr>\n",
       "    <tr>\n",
       "      <th>51750675.0</th>\n",
       "      <td>-0.108228</td>\n",
       "      <td>-0.058090</td>\n",
       "      <td>0.015833</td>\n",
       "      <td>0.080706</td>\n",
       "      <td>-0.050521</td>\n",
       "      <td>0.051526</td>\n",
       "      <td>0.011741</td>\n",
       "      <td>-0.030256</td>\n",
       "      <td>0.043681</td>\n",
       "      <td>0.054876</td>\n",
       "      <td>...</td>\n",
       "      <td>0.034389</td>\n",
       "      <td>0.027473</td>\n",
       "      <td>-0.004890</td>\n",
       "      <td>0.086042</td>\n",
       "      <td>-0.056711</td>\n",
       "      <td>0.059688</td>\n",
       "      <td>0.047612</td>\n",
       "      <td>-0.023292</td>\n",
       "      <td>-0.055406</td>\n",
       "      <td>0.059669</td>\n",
       "    </tr>\n",
       "    <tr>\n",
       "      <th>48125855.0</th>\n",
       "      <td>-0.021348</td>\n",
       "      <td>-0.130383</td>\n",
       "      <td>0.065956</td>\n",
       "      <td>0.012416</td>\n",
       "      <td>0.047087</td>\n",
       "      <td>0.028791</td>\n",
       "      <td>-0.077499</td>\n",
       "      <td>-0.062951</td>\n",
       "      <td>0.042728</td>\n",
       "      <td>0.001619</td>\n",
       "      <td>...</td>\n",
       "      <td>0.043824</td>\n",
       "      <td>-0.011231</td>\n",
       "      <td>-0.092780</td>\n",
       "      <td>0.053753</td>\n",
       "      <td>-0.033295</td>\n",
       "      <td>0.061573</td>\n",
       "      <td>0.027644</td>\n",
       "      <td>-0.020969</td>\n",
       "      <td>-0.093529</td>\n",
       "      <td>0.010398</td>\n",
       "    </tr>\n",
       "    <tr>\n",
       "      <th>48358625.0</th>\n",
       "      <td>-0.114926</td>\n",
       "      <td>-0.055314</td>\n",
       "      <td>0.105960</td>\n",
       "      <td>-0.048345</td>\n",
       "      <td>0.007700</td>\n",
       "      <td>0.013659</td>\n",
       "      <td>-0.016277</td>\n",
       "      <td>0.022655</td>\n",
       "      <td>0.075105</td>\n",
       "      <td>0.005886</td>\n",
       "      <td>...</td>\n",
       "      <td>0.035695</td>\n",
       "      <td>0.000972</td>\n",
       "      <td>-0.056826</td>\n",
       "      <td>0.052611</td>\n",
       "      <td>-0.052656</td>\n",
       "      <td>0.041356</td>\n",
       "      <td>0.056243</td>\n",
       "      <td>0.010263</td>\n",
       "      <td>-0.106852</td>\n",
       "      <td>-0.021320</td>\n",
       "    </tr>\n",
       "  </tbody>\n",
       "</table>\n",
       "<p>5 rows × 384 columns</p>\n",
       "</div>"
      ],
      "text/plain": [
       "                     0         1         2         3         4         5  \\\n",
       "item_id_book                                                               \n",
       "49566885.0   -0.067562 -0.013810  0.087461  0.010315 -0.034190  0.044712   \n",
       "50941457.0    0.002083 -0.107729  0.021961  0.127054 -0.030593  0.014972   \n",
       "51750675.0   -0.108228 -0.058090  0.015833  0.080706 -0.050521  0.051526   \n",
       "48125855.0   -0.021348 -0.130383  0.065956  0.012416  0.047087  0.028791   \n",
       "48358625.0   -0.114926 -0.055314  0.105960 -0.048345  0.007700  0.013659   \n",
       "\n",
       "                     6         7         8         9  ...       374       375  \\\n",
       "item_id_book                                          ...                       \n",
       "49566885.0   -0.042676 -0.003757 -0.019110 -0.066859  ...  0.038768 -0.013075   \n",
       "50941457.0    0.008145 -0.008593  0.053529 -0.007840  ...  0.010641 -0.033515   \n",
       "51750675.0    0.011741 -0.030256  0.043681  0.054876  ...  0.034389  0.027473   \n",
       "48125855.0   -0.077499 -0.062951  0.042728  0.001619  ...  0.043824 -0.011231   \n",
       "48358625.0   -0.016277  0.022655  0.075105  0.005886  ...  0.035695  0.000972   \n",
       "\n",
       "                   376       377       378       379       380       381  \\\n",
       "item_id_book                                                               \n",
       "49566885.0   -0.029805  0.044801 -0.076599  0.070121  0.072632  0.016956   \n",
       "50941457.0   -0.027384  0.058879  0.009330  0.029805  0.093590 -0.032974   \n",
       "51750675.0   -0.004890  0.086042 -0.056711  0.059688  0.047612 -0.023292   \n",
       "48125855.0   -0.092780  0.053753 -0.033295  0.061573  0.027644 -0.020969   \n",
       "48358625.0   -0.056826  0.052611 -0.052656  0.041356  0.056243  0.010263   \n",
       "\n",
       "                   382       383  \n",
       "item_id_book                      \n",
       "49566885.0   -0.016898 -0.009537  \n",
       "50941457.0   -0.018067 -0.058421  \n",
       "51750675.0   -0.055406  0.059669  \n",
       "48125855.0   -0.093529  0.010398  \n",
       "48358625.0   -0.106852 -0.021320  \n",
       "\n",
       "[5 rows x 384 columns]"
      ]
     },
     "execution_count": 8,
     "metadata": {},
     "output_type": "execute_result"
    }
   ],
   "source": [
    "X_vect_b.head()"
   ]
  },
  {
   "cell_type": "code",
   "execution_count": 13,
   "metadata": {},
   "outputs": [],
   "source": [
    "with open('./../data/post_process_data/X_vect_b.pickle', 'wb') as handle:\n",
    "     pickle.dump(X_vect_b, handle, protocol=pickle.HIGHEST_PROTOCOL)"
   ]
  },
  {
   "cell_type": "code",
   "execution_count": 23,
   "metadata": {},
   "outputs": [],
   "source": [
    "with open('./../data/post_process_data/X_vect_m.pickle', 'rb') as handle:\n",
    "    X_vect_m = pickle.load(handle)"
   ]
  },
  {
   "cell_type": "code",
   "execution_count": 14,
   "metadata": {},
   "outputs": [],
   "source": [
    "X_vect_m = pd.read_csv(\"./../data/post_process_data/X_vect_m.csv\")"
   ]
  },
  {
   "cell_type": "code",
   "execution_count": 15,
   "metadata": {},
   "outputs": [],
   "source": [
    "with open('./../data/post_process_data/X_vect_m.pickle', 'wb') as handle:\n",
    "     pickle.dump(X_vect_m, handle, protocol=pickle.HIGHEST_PROTOCOL)"
   ]
  }
 ],
 "metadata": {
  "kernelspec": {
   "display_name": "BookMatch_env",
   "language": "python",
   "name": "python3"
  },
  "language_info": {
   "codemirror_mode": {
    "name": "ipython",
    "version": 3
   },
   "file_extension": ".py",
   "mimetype": "text/x-python",
   "name": "python",
   "nbconvert_exporter": "python",
   "pygments_lexer": "ipython3",
   "version": "3.10.6"
  },
  "orig_nbformat": 4
 },
 "nbformat": 4,
 "nbformat_minor": 2
}
