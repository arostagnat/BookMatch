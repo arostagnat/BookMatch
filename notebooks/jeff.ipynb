{
 "cells": [
  {
   "cell_type": "code",
   "execution_count": 4,
   "metadata": {},
   "outputs": [
    {
     "data": {
      "text/plain": [
       "'ok bro/ je mange /// caroot/E et toi pti//t gars/'"
      ]
     },
     "execution_count": 4,
     "metadata": {},
     "output_type": "execute_result"
    }
   ],
   "source": [
    "remove_digits = str.maketrans('0123456789', '//////////')\n",
    "'ok bro3 je mange 656 caroot4E et toi pti69t gars4'.translate(remove_digits)"
   ]
  }
 ],
 "metadata": {
  "kernelspec": {
   "display_name": "BookMatch_env",
   "language": "python",
   "name": "python3"
  },
  "language_info": {
   "codemirror_mode": {
    "name": "ipython",
    "version": 3
   },
   "file_extension": ".py",
   "mimetype": "text/x-python",
   "name": "python",
   "nbconvert_exporter": "python",
   "pygments_lexer": "ipython3",
   "version": "3.10.6"
  },
  "orig_nbformat": 4
 },
 "nbformat": 4,
 "nbformat_minor": 2
}
