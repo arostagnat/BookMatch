{
 "cells": [
  {
   "cell_type": "code",
   "execution_count": null,
   "metadata": {},
   "outputs": [],
   "source": [
    "# remove_digits = str.maketrans('0123456789', '//////////')\n",
    "# 'ok bro3 je mange 656 caroot4E et toi pti69t gars4'.translate(remove_digits)"
   ]
  },
  {
   "cell_type": "code",
   "execution_count": 3,
   "metadata": {},
   "outputs": [],
   "source": [
    "import pandas as pd"
   ]
  },
  {
   "cell_type": "code",
   "execution_count": 4,
   "metadata": {},
   "outputs": [],
   "source": [
    "dfbert=pd.read_csv(\"../data/bert_data/X_bert_cluster_3000.csv\")\n",
    "dfmeta=pd.read_json(\"../data/raw_data/raw_movies/metadata.json\",lines=True)\n",
    "dfr=pd.read_json(\"../data/raw_data/raw_movies/reviews.json\",lines=True)"
   ]
  },
  {
   "cell_type": "code",
   "execution_count": null,
   "metadata": {},
   "outputs": [],
   "source": []
  },
  {
   "cell_type": "code",
   "execution_count": 5,
   "metadata": {},
   "outputs": [],
   "source": [
    "dfrunique=pd.DataFrame(dfr[\"item_id\"].unique())"
   ]
  },
  {
   "cell_type": "code",
   "execution_count": 6,
   "metadata": {},
   "outputs": [
    {
     "data": {
      "text/html": [
       "<div>\n",
       "<style scoped>\n",
       "    .dataframe tbody tr th:only-of-type {\n",
       "        vertical-align: middle;\n",
       "    }\n",
       "\n",
       "    .dataframe tbody tr th {\n",
       "        vertical-align: top;\n",
       "    }\n",
       "\n",
       "    .dataframe thead th {\n",
       "        text-align: right;\n",
       "    }\n",
       "</style>\n",
       "<table border=\"1\" class=\"dataframe\">\n",
       "  <thead>\n",
       "    <tr style=\"text-align: right;\">\n",
       "      <th></th>\n",
       "      <th>0</th>\n",
       "    </tr>\n",
       "  </thead>\n",
       "  <tbody>\n",
       "    <tr>\n",
       "      <th>0</th>\n",
       "      <td>172063</td>\n",
       "    </tr>\n",
       "    <tr>\n",
       "      <th>1</th>\n",
       "      <td>95541</td>\n",
       "    </tr>\n",
       "    <tr>\n",
       "      <th>2</th>\n",
       "      <td>7065</td>\n",
       "    </tr>\n",
       "    <tr>\n",
       "      <th>3</th>\n",
       "      <td>3739</td>\n",
       "    </tr>\n",
       "    <tr>\n",
       "      <th>4</th>\n",
       "      <td>1562</td>\n",
       "    </tr>\n",
       "    <tr>\n",
       "      <th>...</th>\n",
       "      <td>...</td>\n",
       "    </tr>\n",
       "    <tr>\n",
       "      <th>52076</th>\n",
       "      <td>105446</td>\n",
       "    </tr>\n",
       "    <tr>\n",
       "      <th>52077</th>\n",
       "      <td>115042</td>\n",
       "    </tr>\n",
       "    <tr>\n",
       "      <th>52078</th>\n",
       "      <td>72100</td>\n",
       "    </tr>\n",
       "    <tr>\n",
       "      <th>52079</th>\n",
       "      <td>153066</td>\n",
       "    </tr>\n",
       "    <tr>\n",
       "      <th>52080</th>\n",
       "      <td>176457</td>\n",
       "    </tr>\n",
       "  </tbody>\n",
       "</table>\n",
       "<p>52081 rows × 1 columns</p>\n",
       "</div>"
      ],
      "text/plain": [
       "            0\n",
       "0      172063\n",
       "1       95541\n",
       "2        7065\n",
       "3        3739\n",
       "4        1562\n",
       "...       ...\n",
       "52076  105446\n",
       "52077  115042\n",
       "52078   72100\n",
       "52079  153066\n",
       "52080  176457\n",
       "\n",
       "[52081 rows x 1 columns]"
      ]
     },
     "execution_count": 6,
     "metadata": {},
     "output_type": "execute_result"
    }
   ],
   "source": [
    "dfrunique"
   ]
  },
  {
   "cell_type": "code",
   "execution_count": 7,
   "metadata": {},
   "outputs": [],
   "source": [
    "new_meta=pd.merge(dfmeta,dfrunique,left_on=\"item_id\",right_on=0,how=\"right\")"
   ]
  },
  {
   "cell_type": "code",
   "execution_count": 8,
   "metadata": {},
   "outputs": [],
   "source": [
    "new_meta.to_json(\"newmetadata.json\")"
   ]
  },
  {
   "cell_type": "code",
   "execution_count": 12,
   "metadata": {},
   "outputs": [
    {
     "data": {
      "text/plain": [
       "0                                        Carmencita (1894)\n",
       "1                                  Blacksmith Scene (1893)\n",
       "2                            Birth of a Nation, The (1915)\n",
       "3                               Trouble in Paradise (1932)\n",
       "4                                    Batman & Robin (1997)\n",
       "                               ...                        \n",
       "52076    Tale from the Past, A (Përralle Nga e Kaluara)...\n",
       "52077    More About the Children of Noisy Village (a.k....\n",
       "52078    Jungle Book of Regulations, A (Nie Ma Rozy Bez...\n",
       "52079                                     Landscape (2003)\n",
       "52080            Eugene, Little Eugene and Katyusha (1967)\n",
       "Name: title, Length: 52081, dtype: object"
      ]
     },
     "execution_count": 12,
     "metadata": {},
     "output_type": "execute_result"
    }
   ],
   "source": [
    "new_meta.title"
   ]
  },
  {
   "cell_type": "code",
   "execution_count": 13,
   "metadata": {},
   "outputs": [
    {
     "data": {
      "text/plain": [
       "0         True\n",
       "1        False\n",
       "2        False\n",
       "3        False\n",
       "4        False\n",
       "         ...  \n",
       "52076    False\n",
       "52077    False\n",
       "52078    False\n",
       "52079    False\n",
       "52080    False\n",
       "Name: title, Length: 52081, dtype: bool"
      ]
     },
     "execution_count": 13,
     "metadata": {},
     "output_type": "execute_result"
    }
   ],
   "source": [
    "new_meta[\"title\"]==\"Carmencita (1894)\""
   ]
  },
  {
   "cell_type": "code",
   "execution_count": 39,
   "metadata": {},
   "outputs": [],
   "source": [
    "import pickle"
   ]
  },
  {
   "cell_type": "code",
   "execution_count": 40,
   "metadata": {},
   "outputs": [],
   "source": [
    "# Store data (serialize)\n",
    "with open('metadata.pickle', 'wb') as handle:\n",
    "    pickle.dump(new_meta, handle, protocol=pickle.HIGHEST_PROTOCOL)\n",
    "\n",
    "# # Load data (deserialize)\n",
    "# with open('./../notebook_temp/bert.pickle', 'rb') as handle:\n",
    "#     bert = pickle.load(handle)"
   ]
  },
  {
   "cell_type": "code",
   "execution_count": 4,
   "metadata": {},
   "outputs": [],
   "source": [
    "dfmetaupdated=pd.read_json(\"../data/raw_data/raw_movies/metadata_updated.json\",lines=True)\n"
   ]
  },
  {
   "cell_type": "code",
   "execution_count": 5,
   "metadata": {},
   "outputs": [
    {
     "ename": "NameError",
     "evalue": "name 'dfbert' is not defined",
     "output_type": "error",
     "traceback": [
      "\u001b[0;31m---------------------------------------------------------------------------\u001b[0m",
      "\u001b[0;31mNameError\u001b[0m                                 Traceback (most recent call last)",
      "Cell \u001b[0;32mIn[5], line 1\u001b[0m\n\u001b[0;32m----> 1\u001b[0m dfbert\u001b[39m.\u001b[39mitem_id_movie\u001b[39m.\u001b[39mnunique()\n",
      "\u001b[0;31mNameError\u001b[0m: name 'dfbert' is not defined"
     ]
    }
   ],
   "source": [
    "dfbert.item_id_movie.nunique()"
   ]
  },
  {
   "cell_type": "code",
   "execution_count": 6,
   "metadata": {},
   "outputs": [
    {
     "ename": "NameError",
     "evalue": "name 'dfmeta' is not defined",
     "output_type": "error",
     "traceback": [
      "\u001b[0;31m---------------------------------------------------------------------------\u001b[0m",
      "\u001b[0;31mNameError\u001b[0m                                 Traceback (most recent call last)",
      "Cell \u001b[0;32mIn[6], line 1\u001b[0m\n\u001b[0;32m----> 1\u001b[0m dfmeta\u001b[39m.\u001b[39mitem_id\u001b[39m.\u001b[39mnunique()\n",
      "\u001b[0;31mNameError\u001b[0m: name 'dfmeta' is not defined"
     ]
    }
   ],
   "source": [
    "dfmeta.item_id.nunique()"
   ]
  },
  {
   "cell_type": "code",
   "execution_count": 8,
   "metadata": {},
   "outputs": [
    {
     "data": {
      "text/plain": [
       "52081"
      ]
     },
     "execution_count": 8,
     "metadata": {},
     "output_type": "execute_result"
    }
   ],
   "source": [
    "dfr.item_id.nunique()"
   ]
  },
  {
   "cell_type": "code",
   "execution_count": 9,
   "metadata": {},
   "outputs": [
    {
     "data": {
      "text/plain": [
       "84661"
      ]
     },
     "execution_count": 9,
     "metadata": {},
     "output_type": "execute_result"
    }
   ],
   "source": [
    "dfmetaupdated.item_id.nunique()"
   ]
  },
  {
   "cell_type": "code",
   "execution_count": 10,
   "metadata": {},
   "outputs": [],
   "source": [
    "l=[]\n",
    "for i in dfmetaupdated.title:\n",
    "    l.append(i[i.find(\"(\")+1:i.find(\")\")])\n"
   ]
  },
  {
   "cell_type": "code",
   "execution_count": 11,
   "metadata": {},
   "outputs": [],
   "source": [
    "ll=[]\n",
    "for i in l:\n",
    "    try:\n",
    "        ll.append(int(i))\n",
    "    except:\n",
    "        ll.append(2030)"
   ]
  },
  {
   "cell_type": "code",
   "execution_count": 12,
   "metadata": {},
   "outputs": [
    {
     "data": {
      "text/plain": [
       "0             1\n",
       "1             2\n",
       "2             3\n",
       "3             4\n",
       "4             5\n",
       "          ...  \n",
       "84656    239306\n",
       "84657    239308\n",
       "84658    239310\n",
       "84659    239312\n",
       "84660    239314\n",
       "Name: item_id, Length: 84661, dtype: int64"
      ]
     },
     "execution_count": 12,
     "metadata": {},
     "output_type": "execute_result"
    }
   ],
   "source": [
    "dfmetaupdated.item_id"
   ]
  },
  {
   "cell_type": "code",
   "execution_count": 13,
   "metadata": {},
   "outputs": [],
   "source": [
    "dfdate=pd.DataFrame({\"date\":ll,\"movie_id\":dfmetaupdated.item_id})"
   ]
  },
  {
   "cell_type": "code",
   "execution_count": 14,
   "metadata": {},
   "outputs": [
    {
     "data": {
      "text/html": [
       "<div>\n",
       "<style scoped>\n",
       "    .dataframe tbody tr th:only-of-type {\n",
       "        vertical-align: middle;\n",
       "    }\n",
       "\n",
       "    .dataframe tbody tr th {\n",
       "        vertical-align: top;\n",
       "    }\n",
       "\n",
       "    .dataframe thead th {\n",
       "        text-align: right;\n",
       "    }\n",
       "</style>\n",
       "<table border=\"1\" class=\"dataframe\">\n",
       "  <thead>\n",
       "    <tr style=\"text-align: right;\">\n",
       "      <th></th>\n",
       "      <th>date</th>\n",
       "      <th>movie_id</th>\n",
       "    </tr>\n",
       "  </thead>\n",
       "  <tbody>\n",
       "    <tr>\n",
       "      <th>0</th>\n",
       "      <td>1995</td>\n",
       "      <td>1</td>\n",
       "    </tr>\n",
       "    <tr>\n",
       "      <th>1</th>\n",
       "      <td>1995</td>\n",
       "      <td>2</td>\n",
       "    </tr>\n",
       "    <tr>\n",
       "      <th>2</th>\n",
       "      <td>1995</td>\n",
       "      <td>3</td>\n",
       "    </tr>\n",
       "    <tr>\n",
       "      <th>3</th>\n",
       "      <td>1995</td>\n",
       "      <td>4</td>\n",
       "    </tr>\n",
       "    <tr>\n",
       "      <th>4</th>\n",
       "      <td>1995</td>\n",
       "      <td>5</td>\n",
       "    </tr>\n",
       "    <tr>\n",
       "      <th>...</th>\n",
       "      <td>...</td>\n",
       "      <td>...</td>\n",
       "    </tr>\n",
       "    <tr>\n",
       "      <th>84656</th>\n",
       "      <td>1976</td>\n",
       "      <td>239306</td>\n",
       "    </tr>\n",
       "    <tr>\n",
       "      <th>84657</th>\n",
       "      <td>1974</td>\n",
       "      <td>239308</td>\n",
       "    </tr>\n",
       "    <tr>\n",
       "      <th>84658</th>\n",
       "      <td>2019</td>\n",
       "      <td>239310</td>\n",
       "    </tr>\n",
       "    <tr>\n",
       "      <th>84659</th>\n",
       "      <td>2020</td>\n",
       "      <td>239312</td>\n",
       "    </tr>\n",
       "    <tr>\n",
       "      <th>84660</th>\n",
       "      <td>2030</td>\n",
       "      <td>239314</td>\n",
       "    </tr>\n",
       "  </tbody>\n",
       "</table>\n",
       "<p>84661 rows × 2 columns</p>\n",
       "</div>"
      ],
      "text/plain": [
       "       date  movie_id\n",
       "0      1995         1\n",
       "1      1995         2\n",
       "2      1995         3\n",
       "3      1995         4\n",
       "4      1995         5\n",
       "...     ...       ...\n",
       "84656  1976    239306\n",
       "84657  1974    239308\n",
       "84658  2019    239310\n",
       "84659  2020    239312\n",
       "84660  2030    239314\n",
       "\n",
       "[84661 rows x 2 columns]"
      ]
     },
     "execution_count": 14,
     "metadata": {},
     "output_type": "execute_result"
    }
   ],
   "source": [
    "dfdate"
   ]
  },
  {
   "cell_type": "code",
   "execution_count": 22,
   "metadata": {},
   "outputs": [
    {
     "data": {
      "text/html": [
       "<div>\n",
       "<style scoped>\n",
       "    .dataframe tbody tr th:only-of-type {\n",
       "        vertical-align: middle;\n",
       "    }\n",
       "\n",
       "    .dataframe tbody tr th {\n",
       "        vertical-align: top;\n",
       "    }\n",
       "\n",
       "    .dataframe thead th {\n",
       "        text-align: right;\n",
       "    }\n",
       "</style>\n",
       "<table border=\"1\" class=\"dataframe\">\n",
       "  <thead>\n",
       "    <tr style=\"text-align: right;\">\n",
       "      <th></th>\n",
       "      <th>item_id</th>\n",
       "      <th>txt</th>\n",
       "    </tr>\n",
       "  </thead>\n",
       "  <tbody>\n",
       "    <tr>\n",
       "      <th>47380</th>\n",
       "      <td>170817</td>\n",
       "      <td>⭐⭐⭐⭐; We were lucky enough to be invited to th...</td>\n",
       "    </tr>\n",
       "    <tr>\n",
       "      <th>37969</th>\n",
       "      <td>148424</td>\n",
       "      <td>​A controversial movie that deserves to be vie...</td>\n",
       "    </tr>\n",
       "    <tr>\n",
       "      <th>46041</th>\n",
       "      <td>167572</td>\n",
       "      <td>Ηercules 2 is of the best sequel of Disney; Ηe...</td>\n",
       "    </tr>\n",
       "    <tr>\n",
       "      <th>23973</th>\n",
       "      <td>113101</td>\n",
       "      <td>über-Finnish antics; Maata meren alla (Land be...</td>\n",
       "    </tr>\n",
       "    <tr>\n",
       "      <th>42513</th>\n",
       "      <td>159393</td>\n",
       "      <td>Þór og Danni on a farm; this movie is the seco...</td>\n",
       "    </tr>\n",
       "    <tr>\n",
       "      <th>...</th>\n",
       "      <td>...</td>\n",
       "      <td>...</td>\n",
       "    </tr>\n",
       "    <tr>\n",
       "      <th>36071</th>\n",
       "      <td>144025</td>\n",
       "      <td>LOTS OF INFIDELITY  AND  LIES !; Enjoyed view...</td>\n",
       "    </tr>\n",
       "    <tr>\n",
       "      <th>42663</th>\n",
       "      <td>159737</td>\n",
       "      <td>A powerful drama about the plight of teen mot...</td>\n",
       "    </tr>\n",
       "    <tr>\n",
       "      <th>27316</th>\n",
       "      <td>123087</td>\n",
       "      <td>A brutal and cutting but ultimately enjoyable...</td>\n",
       "    </tr>\n",
       "    <tr>\n",
       "      <th>37314</th>\n",
       "      <td>146882</td>\n",
       "      <td>A Mafia/Thriller cocktail that tastes good.; ...</td>\n",
       "    </tr>\n",
       "    <tr>\n",
       "      <th>6684</th>\n",
       "      <td>6826</td>\n",
       "      <td>Don knotts is a comical genius...; I saw th...</td>\n",
       "    </tr>\n",
       "  </tbody>\n",
       "</table>\n",
       "<p>52081 rows × 2 columns</p>\n",
       "</div>"
      ],
      "text/plain": [
       "       item_id                                                txt\n",
       "47380   170817  ⭐⭐⭐⭐; We were lucky enough to be invited to th...\n",
       "37969   148424  ​A controversial movie that deserves to be vie...\n",
       "46041   167572  Ηercules 2 is of the best sequel of Disney; Ηe...\n",
       "23973   113101  über-Finnish antics; Maata meren alla (Land be...\n",
       "42513   159393  Þór og Danni on a farm; this movie is the seco...\n",
       "...        ...                                                ...\n",
       "36071   144025   LOTS OF INFIDELITY  AND  LIES !; Enjoyed view...\n",
       "42663   159737   A powerful drama about the plight of teen mot...\n",
       "27316   123087   A brutal and cutting but ultimately enjoyable...\n",
       "37314   146882   A Mafia/Thriller cocktail that tastes good.; ...\n",
       "6684      6826     Don knotts is a comical genius...; I saw th...\n",
       "\n",
       "[52081 rows x 2 columns]"
      ]
     },
     "execution_count": 22,
     "metadata": {},
     "output_type": "execute_result"
    }
   ],
   "source": [
    "dfcount=dfr.groupby(\"item_id\").sum().reset_index().sort_values(\"txt\",ascending=False)\n",
    "dfcount"
   ]
  },
  {
   "cell_type": "code",
   "execution_count": 59,
   "metadata": {},
   "outputs": [
    {
     "data": {
      "text/html": [
       "<div>\n",
       "<style scoped>\n",
       "    .dataframe tbody tr th:only-of-type {\n",
       "        vertical-align: middle;\n",
       "    }\n",
       "\n",
       "    .dataframe tbody tr th {\n",
       "        vertical-align: top;\n",
       "    }\n",
       "\n",
       "    .dataframe thead th {\n",
       "        text-align: right;\n",
       "    }\n",
       "</style>\n",
       "<table border=\"1\" class=\"dataframe\">\n",
       "  <thead>\n",
       "    <tr style=\"text-align: right;\">\n",
       "      <th></th>\n",
       "      <th>item_id</th>\n",
       "      <th>txt</th>\n",
       "      <th>count</th>\n",
       "    </tr>\n",
       "  </thead>\n",
       "  <tbody>\n",
       "    <tr>\n",
       "      <th>27228</th>\n",
       "      <td>122886</td>\n",
       "      <td>amazing return to the star wars universe; We'v...</td>\n",
       "      <td>1571206</td>\n",
       "    </tr>\n",
       "    <tr>\n",
       "      <th>12523</th>\n",
       "      <td>58559</td>\n",
       "      <td>the best batman movie till date! take a bow di...</td>\n",
       "      <td>1510458</td>\n",
       "    </tr>\n",
       "    <tr>\n",
       "      <th>4865</th>\n",
       "      <td>4993</td>\n",
       "      <td>It grew on me; Unlike most people, i wasn't tr...</td>\n",
       "      <td>1241476</td>\n",
       "    </tr>\n",
       "    <tr>\n",
       "      <th>32946</th>\n",
       "      <td>136864</td>\n",
       "      <td>It's an OK movie; don't go to the cinema with ...</td>\n",
       "      <td>1147886</td>\n",
       "    </tr>\n",
       "    <tr>\n",
       "      <th>10098</th>\n",
       "      <td>33493</td>\n",
       "      <td>Lucas does good !; As a lifelong Star Wars fan...</td>\n",
       "      <td>1082263</td>\n",
       "    </tr>\n",
       "    <tr>\n",
       "      <th>...</th>\n",
       "      <td>...</td>\n",
       "      <td>...</td>\n",
       "      <td>...</td>\n",
       "    </tr>\n",
       "    <tr>\n",
       "      <th>17511</th>\n",
       "      <td>88215</td>\n",
       "      <td>An innovative triumph of low budget; This is a...</td>\n",
       "      <td>33</td>\n",
       "    </tr>\n",
       "    <tr>\n",
       "      <th>34983</th>\n",
       "      <td>141546</td>\n",
       "      <td>Great; I always liked 'Aibolit' by Kornei Chuk...</td>\n",
       "      <td>32</td>\n",
       "    </tr>\n",
       "    <tr>\n",
       "      <th>30484</th>\n",
       "      <td>131213</td>\n",
       "      <td>Beautiful film!; Classic tale of love, family ...</td>\n",
       "      <td>32</td>\n",
       "    </tr>\n",
       "    <tr>\n",
       "      <th>35978</th>\n",
       "      <td>143791</td>\n",
       "      <td>A MASTERPIECE; Incredibly well acted and direc...</td>\n",
       "      <td>26</td>\n",
       "    </tr>\n",
       "    <tr>\n",
       "      <th>36931</th>\n",
       "      <td>145992</td>\n",
       "      <td>Philosophical masterpiece; It's an immaculate,...</td>\n",
       "      <td>22</td>\n",
       "    </tr>\n",
       "  </tbody>\n",
       "</table>\n",
       "<p>52081 rows × 3 columns</p>\n",
       "</div>"
      ],
      "text/plain": [
       "       item_id                                                txt    count\n",
       "27228   122886  amazing return to the star wars universe; We'v...  1571206\n",
       "12523    58559  the best batman movie till date! take a bow di...  1510458\n",
       "4865      4993  It grew on me; Unlike most people, i wasn't tr...  1241476\n",
       "32946   136864  It's an OK movie; don't go to the cinema with ...  1147886\n",
       "10098    33493  Lucas does good !; As a lifelong Star Wars fan...  1082263\n",
       "...        ...                                                ...      ...\n",
       "17511    88215  An innovative triumph of low budget; This is a...       33\n",
       "34983   141546  Great; I always liked 'Aibolit' by Kornei Chuk...       32\n",
       "30484   131213  Beautiful film!; Classic tale of love, family ...       32\n",
       "35978   143791  A MASTERPIECE; Incredibly well acted and direc...       26\n",
       "36931   145992  Philosophical masterpiece; It's an immaculate,...       22\n",
       "\n",
       "[52081 rows x 3 columns]"
      ]
     },
     "execution_count": 59,
     "metadata": {},
     "output_type": "execute_result"
    }
   ],
   "source": [
    "dfcount[\"count\"]=dfcount[\"txt\"].apply(lambda x: len(x.split()))\n",
    "dfcount.sort_values(by=\"count\",ascending=False,inplace=True)\n",
    "dfcount"
   ]
  },
  {
   "cell_type": "code",
   "execution_count": 120,
   "metadata": {},
   "outputs": [
    {
     "name": "stderr",
     "output_type": "stream",
     "text": [
      "/tmp/ipykernel_58753/3152381621.py:2: UserWarning: Ignoring `palette` because no `hue` variable has been assigned.\n",
      "  ax1=sns.histplot(data=dfcount, x=\"count\", palette=\"Set1\",binwidth=100)\n"
     ]
    },
    {
     "data": {
      "text/plain": [
       "(0.0, 10000.0)"
      ]
     },
     "execution_count": 120,
     "metadata": {},
     "output_type": "execute_result"
    },
    {
     "data": {
      "image/png": "[encoded data removed]",
      "text/plain": [
       "<Figure size 640x480 with 1 Axes>"
      ]
     },
     "metadata": {},
     "output_type": "display_data"
    }
   ],
   "source": [
    "import seaborn as sns\n",
    "ax1=sns.histplot(data=dfcount, x=\"count\", palette=\"Set1\",binwidth=100)\n",
    "ax1.set_xlim(0,10000)"
   ]
  },
  {
   "cell_type": "code",
   "execution_count": 60,
   "metadata": {},
   "outputs": [
    {
     "data": {
      "text/html": [
       "<div>\n",
       "<style scoped>\n",
       "    .dataframe tbody tr th:only-of-type {\n",
       "        vertical-align: middle;\n",
       "    }\n",
       "\n",
       "    .dataframe tbody tr th {\n",
       "        vertical-align: top;\n",
       "    }\n",
       "\n",
       "    .dataframe thead th {\n",
       "        text-align: right;\n",
       "    }\n",
       "</style>\n",
       "<table border=\"1\" class=\"dataframe\">\n",
       "  <thead>\n",
       "    <tr style=\"text-align: right;\">\n",
       "      <th></th>\n",
       "      <th>date</th>\n",
       "      <th>movie_id</th>\n",
       "      <th>item_id</th>\n",
       "      <th>txt</th>\n",
       "      <th>count</th>\n",
       "    </tr>\n",
       "  </thead>\n",
       "  <tbody>\n",
       "    <tr>\n",
       "      <th>27895</th>\n",
       "      <td>2015</td>\n",
       "      <td>122886</td>\n",
       "      <td>122886.0</td>\n",
       "      <td>amazing return to the star wars universe; We'v...</td>\n",
       "      <td>1571206.0</td>\n",
       "    </tr>\n",
       "    <tr>\n",
       "      <th>12563</th>\n",
       "      <td>2008</td>\n",
       "      <td>58559</td>\n",
       "      <td>58559.0</td>\n",
       "      <td>the best batman movie till date! take a bow di...</td>\n",
       "      <td>1510458.0</td>\n",
       "    </tr>\n",
       "    <tr>\n",
       "      <th>4898</th>\n",
       "      <td>2001</td>\n",
       "      <td>4993</td>\n",
       "      <td>4993.0</td>\n",
       "      <td>It grew on me; Unlike most people, i wasn't tr...</td>\n",
       "      <td>1241476.0</td>\n",
       "    </tr>\n",
       "    <tr>\n",
       "      <th>34093</th>\n",
       "      <td>2016</td>\n",
       "      <td>136864</td>\n",
       "      <td>136864.0</td>\n",
       "      <td>It's an OK movie; don't go to the cinema with ...</td>\n",
       "      <td>1147886.0</td>\n",
       "    </tr>\n",
       "    <tr>\n",
       "      <th>10135</th>\n",
       "      <td>2005</td>\n",
       "      <td>33493</td>\n",
       "      <td>33493.0</td>\n",
       "      <td>Lucas does good !; As a lifelong Star Wars fan...</td>\n",
       "      <td>1082263.0</td>\n",
       "    </tr>\n",
       "    <tr>\n",
       "      <th>...</th>\n",
       "      <td>...</td>\n",
       "      <td>...</td>\n",
       "      <td>...</td>\n",
       "      <td>...</td>\n",
       "      <td>...</td>\n",
       "    </tr>\n",
       "    <tr>\n",
       "      <th>62913</th>\n",
       "      <td>2015</td>\n",
       "      <td>195705</td>\n",
       "      <td>0.0</td>\n",
       "      <td>0</td>\n",
       "      <td>0.0</td>\n",
       "    </tr>\n",
       "    <tr>\n",
       "      <th>62912</th>\n",
       "      <td>2018</td>\n",
       "      <td>195703</td>\n",
       "      <td>0.0</td>\n",
       "      <td>0</td>\n",
       "      <td>0.0</td>\n",
       "    </tr>\n",
       "    <tr>\n",
       "      <th>62911</th>\n",
       "      <td>2015</td>\n",
       "      <td>195701</td>\n",
       "      <td>0.0</td>\n",
       "      <td>0</td>\n",
       "      <td>0.0</td>\n",
       "    </tr>\n",
       "    <tr>\n",
       "      <th>62910</th>\n",
       "      <td>2030</td>\n",
       "      <td>195699</td>\n",
       "      <td>0.0</td>\n",
       "      <td>0</td>\n",
       "      <td>0.0</td>\n",
       "    </tr>\n",
       "    <tr>\n",
       "      <th>84660</th>\n",
       "      <td>2030</td>\n",
       "      <td>239314</td>\n",
       "      <td>0.0</td>\n",
       "      <td>0</td>\n",
       "      <td>0.0</td>\n",
       "    </tr>\n",
       "  </tbody>\n",
       "</table>\n",
       "<p>84661 rows × 5 columns</p>\n",
       "</div>"
      ],
      "text/plain": [
       "       date  movie_id   item_id  \\\n",
       "27895  2015    122886  122886.0   \n",
       "12563  2008     58559   58559.0   \n",
       "4898   2001      4993    4993.0   \n",
       "34093  2016    136864  136864.0   \n",
       "10135  2005     33493   33493.0   \n",
       "...     ...       ...       ...   \n",
       "62913  2015    195705       0.0   \n",
       "62912  2018    195703       0.0   \n",
       "62911  2015    195701       0.0   \n",
       "62910  2030    195699       0.0   \n",
       "84660  2030    239314       0.0   \n",
       "\n",
       "                                                     txt      count  \n",
       "27895  amazing return to the star wars universe; We'v...  1571206.0  \n",
       "12563  the best batman movie till date! take a bow di...  1510458.0  \n",
       "4898   It grew on me; Unlike most people, i wasn't tr...  1241476.0  \n",
       "34093  It's an OK movie; don't go to the cinema with ...  1147886.0  \n",
       "10135  Lucas does good !; As a lifelong Star Wars fan...  1082263.0  \n",
       "...                                                  ...        ...  \n",
       "62913                                                  0        0.0  \n",
       "62912                                                  0        0.0  \n",
       "62911                                                  0        0.0  \n",
       "62910                                                  0        0.0  \n",
       "84660                                                  0        0.0  \n",
       "\n",
       "[84661 rows x 5 columns]"
      ]
     },
     "execution_count": 60,
     "metadata": {},
     "output_type": "execute_result"
    }
   ],
   "source": [
    "dfmerge=dfdate.merge(dfcount,left_on=\"movie_id\",right_on=\"item_id\",how=\"left\").fillna(0)\n",
    "dfmerge.sort_values(by=\"count\",ascending=False,inplace=True)\n",
    "dfmerge"
   ]
  },
  {
   "cell_type": "code",
   "execution_count": 71,
   "metadata": {},
   "outputs": [
    {
     "data": {
      "text/html": [
       "<div>\n",
       "<style scoped>\n",
       "    .dataframe tbody tr th:only-of-type {\n",
       "        vertical-align: middle;\n",
       "    }\n",
       "\n",
       "    .dataframe tbody tr th {\n",
       "        vertical-align: top;\n",
       "    }\n",
       "\n",
       "    .dataframe thead th {\n",
       "        text-align: right;\n",
       "    }\n",
       "</style>\n",
       "<table border=\"1\" class=\"dataframe\">\n",
       "  <thead>\n",
       "    <tr style=\"text-align: right;\">\n",
       "      <th></th>\n",
       "      <th>date</th>\n",
       "      <th>count</th>\n",
       "    </tr>\n",
       "  </thead>\n",
       "  <tbody>\n",
       "    <tr>\n",
       "      <th>0</th>\n",
       "      <td>1</td>\n",
       "      <td>0.0</td>\n",
       "    </tr>\n",
       "    <tr>\n",
       "      <th>1</th>\n",
       "      <td>2</td>\n",
       "      <td>0.0</td>\n",
       "    </tr>\n",
       "    <tr>\n",
       "      <th>2</th>\n",
       "      <td>6</td>\n",
       "      <td>1082.0</td>\n",
       "    </tr>\n",
       "    <tr>\n",
       "      <th>3</th>\n",
       "      <td>69</td>\n",
       "      <td>0.0</td>\n",
       "    </tr>\n",
       "    <tr>\n",
       "      <th>4</th>\n",
       "      <td>186</td>\n",
       "      <td>0.0</td>\n",
       "    </tr>\n",
       "    <tr>\n",
       "      <th>...</th>\n",
       "      <td>...</td>\n",
       "      <td>...</td>\n",
       "    </tr>\n",
       "    <tr>\n",
       "      <th>140</th>\n",
       "      <td>2018</td>\n",
       "      <td>250.0</td>\n",
       "    </tr>\n",
       "    <tr>\n",
       "      <th>141</th>\n",
       "      <td>2019</td>\n",
       "      <td>0.0</td>\n",
       "    </tr>\n",
       "    <tr>\n",
       "      <th>142</th>\n",
       "      <td>2020</td>\n",
       "      <td>0.0</td>\n",
       "    </tr>\n",
       "    <tr>\n",
       "      <th>143</th>\n",
       "      <td>2021</td>\n",
       "      <td>0.0</td>\n",
       "    </tr>\n",
       "    <tr>\n",
       "      <th>144</th>\n",
       "      <td>2030</td>\n",
       "      <td>54238651.0</td>\n",
       "    </tr>\n",
       "  </tbody>\n",
       "</table>\n",
       "<p>145 rows × 2 columns</p>\n",
       "</div>"
      ],
      "text/plain": [
       "     date       count\n",
       "0       1         0.0\n",
       "1       2         0.0\n",
       "2       6      1082.0\n",
       "3      69         0.0\n",
       "4     186         0.0\n",
       "..    ...         ...\n",
       "140  2018       250.0\n",
       "141  2019         0.0\n",
       "142  2020         0.0\n",
       "143  2021         0.0\n",
       "144  2030  54238651.0\n",
       "\n",
       "[145 rows x 2 columns]"
      ]
     },
     "execution_count": 71,
     "metadata": {},
     "output_type": "execute_result"
    }
   ],
   "source": [
    "df=dfmerge[[\"date\",\"count\"]].groupby(\"date\").sum().reset_index()\n",
    "df"
   ]
  },
  {
   "cell_type": "code",
   "execution_count": 72,
   "metadata": {},
   "outputs": [],
   "source": [
    "import seaborn as sns\n"
   ]
  },
  {
   "cell_type": "code",
   "execution_count": 77,
   "metadata": {},
   "outputs": [
    {
     "name": "stdout",
     "output_type": "stream",
     "text": [
      "<class 'pandas.core.frame.DataFrame'>\n",
      "RangeIndex: 145 entries, 0 to 144\n",
      "Data columns (total 2 columns):\n",
      " #   Column  Non-Null Count  Dtype  \n",
      "---  ------  --------------  -----  \n",
      " 0   date    145 non-null    int64  \n",
      " 1   count   145 non-null    float64\n",
      "dtypes: float64(1), int64(1)\n",
      "memory usage: 2.4 KB\n"
     ]
    }
   ],
   "source": [
    "df.info()"
   ]
  },
  {
   "cell_type": "code",
   "execution_count": 88,
   "metadata": {},
   "outputs": [],
   "source": [
    "import matplotlib.pyplot as plt"
   ]
  },
  {
   "cell_type": "code",
   "execution_count": 99,
   "metadata": {},
   "outputs": [
    {
     "data": {
      "text/plain": [
       "(1990.0, 2020.0)"
      ]
     },
     "execution_count": 99,
     "metadata": {},
     "output_type": "execute_result"
    },
    {
     "data": {
      "image/png": "[encoded data removed]",
      "text/plain": [
       "<Figure size 640x480 with 1 Axes>"
      ]
     },
     "metadata": {},
     "output_type": "display_data"
    }
   ],
   "source": [
    "plt.bar(df[\"date\"],df[\"count\"],width=1)\n",
    "plt.xlim(1990,2020)"
   ]
  },
  {
   "cell_type": "code",
   "execution_count": 15,
   "metadata": {},
   "outputs": [],
   "source": [
    "i=\"ezdzed(oij ) dzeoijd\""
   ]
  },
  {
   "cell_type": "code",
   "execution_count": 16,
   "metadata": {},
   "outputs": [
    {
     "data": {
      "text/plain": [
       "'oij '"
      ]
     },
     "execution_count": 16,
     "metadata": {},
     "output_type": "execute_result"
    }
   ],
   "source": [
    "i[i.find(\"(\")+1:i.find(\")\")]"
   ]
  },
  {
   "cell_type": "code",
   "execution_count": null,
   "metadata": {},
   "outputs": [],
   "source": []
  }
 ],
 "metadata": {
  "kernelspec": {
   "display_name": "BookMatch_env",
   "language": "python",
   "name": "python3"
  },
  "language_info": {
   "codemirror_mode": {
    "name": "ipython",
    "version": 3
   },
   "file_extension": ".py",
   "mimetype": "text/x-python",
   "name": "python",
   "nbconvert_exporter": "python",
   "pygments_lexer": "ipython3",
   "version": "3.10.6"
  },
  "orig_nbformat": 4
 },
 "nbformat": 4,
 "nbformat_minor": 2
}
